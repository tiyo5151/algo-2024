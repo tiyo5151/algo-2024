{
 "cells": [
  {
   "cell_type": "code",
   "execution_count": 1,
   "metadata": {},
   "outputs": [
    {
     "name": "stdout",
     "output_type": "stream",
     "text": [
      "合計点： 412\n",
      "平均点： 82.4\n"
     ]
    }
   ],
   "source": [
    "scores={\"Japanese\":70,\"Math\":98,\"English\":92,\"Science\":88,\"Social\":64}\n",
    "\n",
    "result=0\n",
    "for subject in scores:\n",
    "    result+=scores[subject]\n",
    "    average=result/len(scores)\n",
    "\n",
    "print(\"合計点：\",result)\n",
    "print(\"平均点：\",average)"
   ]
  },
  {
   "cell_type": "code",
   "execution_count": 2,
   "metadata": {},
   "outputs": [
    {
     "name": "stdout",
     "output_type": "stream",
     "text": [
      "1から10までの合計： 55\n"
     ]
    }
   ],
   "source": [
    "result=0\n",
    "for i in range(1,11):\n",
    "    result+=i\n",
    "print(\"1から10までの合計：\",result)"
   ]
  },
  {
   "cell_type": "code",
   "execution_count": 3,
   "metadata": {},
   "outputs": [],
   "source": [
    "def sum(n):\n",
    "  result=0\n",
    "  for i in range(1,n+1):\n",
    "    result+=i\n",
    "  return result"
   ]
  },
  {
   "cell_type": "code",
   "execution_count": 4,
   "metadata": {},
   "outputs": [
    {
     "name": "stdout",
     "output_type": "stream",
     "text": [
      "1から10までの合計： 55\n"
     ]
    }
   ],
   "source": [
    "print(\"1から10までの合計：\",sum(10))"
   ]
  },
  {
   "cell_type": "code",
   "execution_count": 5,
   "metadata": {},
   "outputs": [],
   "source": [
    "def sum2(n):\n",
    "  return n*(n+1)//2"
   ]
  },
  {
   "cell_type": "code",
   "execution_count": 6,
   "metadata": {},
   "outputs": [
    {
     "name": "stdout",
     "output_type": "stream",
     "text": [
      "1から10までの合計： 55\n"
     ]
    }
   ],
   "source": [
    "print(\"1から10までの合計：\",sum2(10))"
   ]
  },
  {
   "cell_type": "code",
   "execution_count": 7,
   "metadata": {},
   "outputs": [
    {
     "name": "stdout",
     "output_type": "stream",
     "text": [
      "\n",
      " 1 の段：\n",
      "1 × 1 = 1  1 × 2 = 2  1 × 3 = 3  1 × 4 = 4  1 × 5 = 5  1 × 6 = 6  1 × 7 = 7  1 × 8 = 8  1 × 9 = 9  \n",
      " 2 の段：\n",
      "2 × 1 = 2  2 × 2 = 4  2 × 3 = 6  2 × 4 = 8  2 × 5 = 10  2 × 6 = 12  2 × 7 = 14  2 × 8 = 16  2 × 9 = 18  \n",
      " 3 の段：\n",
      "3 × 1 = 3  3 × 2 = 6  3 × 3 = 9  3 × 4 = 12  3 × 5 = 15  3 × 6 = 18  3 × 7 = 21  3 × 8 = 24  3 × 9 = 27  \n",
      " 4 の段：\n",
      "4 × 1 = 4  4 × 2 = 8  4 × 3 = 12  4 × 4 = 16  4 × 5 = 20  4 × 6 = 24  4 × 7 = 28  4 × 8 = 32  4 × 9 = 36  \n",
      " 5 の段：\n",
      "5 × 1 = 5  5 × 2 = 10  5 × 3 = 15  5 × 4 = 20  5 × 5 = 25  5 × 6 = 30  5 × 7 = 35  5 × 8 = 40  5 × 9 = 45  \n",
      " 6 の段：\n",
      "6 × 1 = 6  6 × 2 = 12  6 × 3 = 18  6 × 4 = 24  6 × 5 = 30  6 × 6 = 36  6 × 7 = 42  6 × 8 = 48  6 × 9 = 54  \n",
      " 7 の段：\n",
      "7 × 1 = 7  7 × 2 = 14  7 × 3 = 21  7 × 4 = 28  7 × 5 = 35  7 × 6 = 42  7 × 7 = 49  7 × 8 = 56  7 × 9 = 63  \n",
      " 8 の段：\n",
      "8 × 1 = 8  8 × 2 = 16  8 × 3 = 24  8 × 4 = 32  8 × 5 = 40  8 × 6 = 48  8 × 7 = 56  8 × 8 = 64  8 × 9 = 72  \n",
      " 9 の段：\n",
      "9 × 1 = 9  9 × 2 = 18  9 × 3 = 27  9 × 4 = 36  9 × 5 = 45  9 × 6 = 54  9 × 7 = 63  9 × 8 = 72  9 × 9 = 81  "
     ]
    }
   ],
   "source": [
    "for x in range(1,10):\n",
    "  print(\"\\n\",x,\"の段：\")\n",
    "  for y in range(1,10):\n",
    "    print(x,\"×\",y,\"=\",x*y,end=\"  \")"
   ]
  },
  {
   "cell_type": "code",
   "execution_count": 8,
   "metadata": {},
   "outputs": [
    {
     "name": "stdout",
     "output_type": "stream",
     "text": [
      "1×1= 1  2×1= 2  3×1= 3  4×1= 4  5×1= 5  6×1= 6  7×1= 7  8×1= 8  9×1= 9  \n",
      "1×2= 2  2×2= 4  3×2= 6  4×2= 8  5×2=10  6×2=12  7×2=14  8×2=16  9×2=18  \n",
      "1×3= 3  2×3= 6  3×3= 9  4×3=12  5×3=15  6×3=18  7×3=21  8×3=24  9×3=27  \n",
      "1×4= 4  2×4= 8  3×4=12  4×4=16  5×4=20  6×4=24  7×4=28  8×4=32  9×4=36  \n",
      "1×5= 5  2×5=10  3×5=15  4×5=20  5×5=25  6×5=30  7×5=35  8×5=40  9×5=45  \n",
      "1×6= 6  2×6=12  3×6=18  4×6=24  5×6=30  6×6=36  7×6=42  8×6=48  9×6=54  \n",
      "1×7= 7  2×7=14  3×7=21  4×7=28  5×7=35  6×7=42  7×7=49  8×7=56  9×7=63  \n",
      "1×8= 8  2×8=16  3×8=24  4×8=32  5×8=40  6×8=48  7×8=56  8×8=64  9×8=72  \n",
      "1×9= 9  2×9=18  3×9=27  4×9=36  5×9=45  6×9=54  7×9=63  8×9=72  9×9=81  \n"
     ]
    }
   ],
   "source": [
    "for i in range(1,10):\n",
    "  k=\"\"\n",
    "  for j in range(1,10):\n",
    "    k=k+\"{}×{}={:2d}  \".format(j,i,i*j)\n",
    "  print(k)"
   ]
  },
  {
   "cell_type": "code",
   "execution_count": 9,
   "metadata": {},
   "outputs": [
    {
     "name": "stdout",
     "output_type": "stream",
     "text": [
      "ゼロ詰め3桁：007\n",
      "ゼロ詰め10桁：0000000123\n",
      "十六進法:00ff\n",
      "二進法:00000011\n"
     ]
    }
   ],
   "source": [
    "print(\"ゼロ詰め3桁：{:03d}\".format(7))\n",
    "print(\"ゼロ詰め10桁：{:010d}\".format(123))\n",
    "print(\"十六進法:{:04x}\".format(255))\n",
    "print(\"二進法:{:08b}\".format(3))"
   ]
  },
  {
   "cell_type": "code",
   "execution_count": null,
   "metadata": {},
   "outputs": [],
   "source": []
  }
 ],
 "metadata": {
  "kernelspec": {
   "display_name": "algovenv",
   "language": "python",
   "name": "python3"
  },
  "language_info": {
   "codemirror_mode": {
    "name": "ipython",
    "version": 3
   },
   "file_extension": ".py",
   "mimetype": "text/x-python",
   "name": "python",
   "nbconvert_exporter": "python",
   "pygments_lexer": "ipython3",
   "version": "3.10.12"
  }
 },
 "nbformat": 4,
 "nbformat_minor": 2
}
