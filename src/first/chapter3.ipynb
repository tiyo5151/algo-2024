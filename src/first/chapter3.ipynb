{
 "cells": [
  {
   "cell_type": "markdown",
   "metadata": {},
   "source": [
    "# 3-1\n",
    "\n",
    "## スタック\n",
    "\n",
    "積み上げた本をイメージ(FILO)\n"
   ]
  },
  {
   "cell_type": "code",
   "execution_count": 3,
   "metadata": {},
   "outputs": [
    {
     "name": "stdout",
     "output_type": "stream",
     "text": [
      "[0, 0, 0, 0, 0]\n"
     ]
    }
   ],
   "source": [
    "Max = 5\n",
    "stack = [0] * Max\n",
    "sp = 0  # stack pointer\n",
    "\n",
    "print(stack)\n",
    "\n",
    "\n",
    "def push(d):\n",
    "    global sp\n",
    "    if sp < Max:\n",
    "        stack[sp] = d\n",
    "        sp += 1\n",
    "        print(\"data\", d, \"added\")\n",
    "    else:\n",
    "        print(\"no more adding data\")\n",
    "\n",
    "\n",
    "def pop():\n",
    "    global sp\n",
    "    if sp > 0:\n",
    "        sp -= 1\n",
    "        data = stack[sp]\n",
    "        stack[sp] = 0  # clear the popped element\n",
    "        return data\n",
    "    else:\n",
    "        print(\"no pop data\")\n",
    "        return None"
   ]
  },
  {
   "cell_type": "code",
   "execution_count": 4,
   "metadata": {},
   "outputs": [
    {
     "name": "stdout",
     "output_type": "stream",
     "text": [
      "data 0 added\n",
      "data 1 added\n",
      "data 2 added\n",
      "data 3 added\n",
      "data 4 added\n",
      "no more adding data\n",
      "[0, 1, 2, 3, 4]\n",
      "5\n",
      "[0, 1, 2, 3, 4]\n",
      "pop data 4\n",
      "4\n",
      "[0, 1, 2, 3, 0]\n",
      "pop data 3\n",
      "3\n",
      "[0, 1, 2, 0, 0]\n",
      "pop data 2\n",
      "2\n",
      "[0, 1, 0, 0, 0]\n",
      "pop data 1\n",
      "1\n",
      "[0, 0, 0, 0, 0]\n",
      "pop data 0\n",
      "0\n",
      "[0, 0, 0, 0, 0]\n",
      "no pop data\n",
      "pop data None\n"
     ]
    }
   ],
   "source": [
    "for i in range(6):\n",
    "    push(i)\n",
    "print(stack)\n",
    "for i in range(6):\n",
    "    print(sp)\n",
    "    print(stack)\n",
    "    d = pop()\n",
    "    print(\"pop data\", d)"
   ]
  },
  {
   "cell_type": "markdown",
   "metadata": {},
   "source": [
    "# 3-2\n",
    "\n",
    "## キュー\n",
    "\n",
    "人間の列をイメージ(FIFO)\n"
   ]
  },
  {
   "cell_type": "code",
   "execution_count": 12,
   "metadata": {},
   "outputs": [],
   "source": [
    "Max = 6\n",
    "q = [0] * Max\n",
    "head = 0\n",
    "tail = 0\n",
    "\n",
    "\n",
    "def enqueue(d):\n",
    "    global tail\n",
    "    nt = (tail + 1) % Max\n",
    "\n",
    "    if nt == head:\n",
    "        print(\"no more adding data\")\n",
    "    else:\n",
    "        q[tail] = d\n",
    "        tail = nt\n",
    "        print(\"data\", d, \"added\")\n",
    "\n",
    "\n",
    "def dequeue():\n",
    "    global head\n",
    "    if head == tail:\n",
    "        print(\"no dequeue data\")\n",
    "        return None\n",
    "    else:\n",
    "        d = q[head]\n",
    "        q[head] = 0\n",
    "        head = (head + 1) % Max\n",
    "        return d"
   ]
  },
  {
   "cell_type": "code",
   "execution_count": 13,
   "metadata": {},
   "outputs": [
    {
     "name": "stdout",
     "output_type": "stream",
     "text": [
      "data 0 added\n",
      "data 1 added\n",
      "data 2 added\n",
      "data 3 added\n",
      "data 4 added\n",
      "no more adding data\n",
      "[0, 1, 2, 3, 4, 0]\n",
      "dequeue data 0\n",
      "dequeue data 1\n",
      "dequeue data 2\n",
      "dequeue data 3\n",
      "dequeue data 4\n",
      "no dequeue data\n",
      "dequeue data None\n",
      "[0, 0, 0, 0, 0, 0]\n"
     ]
    }
   ],
   "source": [
    "for i in range(6):\n",
    "    enqueue(i)\n",
    "print(q)\n",
    "for i in range(6):\n",
    "    d = dequeue()\n",
    "    print(\"dequeue data\", d)\n",
    "print(q)"
   ]
  },
  {
   "cell_type": "markdown",
   "metadata": {},
   "source": [
    "# 3-3\n",
    "\n",
    "## 配列\n"
   ]
  },
  {
   "cell_type": "code",
   "execution_count": 10,
   "metadata": {},
   "outputs": [
    {
     "name": "stdout",
     "output_type": "stream",
     "text": [
      "[None, None, None, None, None]\n"
     ]
    }
   ],
   "source": [
    "MAX = 5\n",
    "data = [None] * MAX  # ノードの値\n",
    "pointer = [None] * MAX  # 次のノードの位置を示す値\n",
    "head = 0\n",
    "\n",
    "\n",
    "def add_list(d):\n",
    "    n = -1  # 配列の位置を定義\n",
    "    for i in range(MAX):\n",
    "        if data[i] == None:\n",
    "            n = i  # 先頭から初めて最初の空のノードの位置を決める\n",
    "            break\n",
    "    if (\n",
    "        n == -1\n",
    "    ):  # データを入れられる個数が今回は５個なのでそれを超えたら以下の動作をする。\n",
    "        print(\"There are no vacancies of data\")\n",
    "        return False\n",
    "    for i in range(MAX):\n",
    "        if data[i] != None and pointer[i] == None:  # 最後尾のノードを示す\n",
    "            pointer[i] = n\n",
    "            break\n",
    "    data[n] = d\n",
    "    pointer[n] = None\n",
    "    print(\"data\", d, \"added\")\n",
    "    return True\n",
    "\n",
    "\n",
    "def del_list(d):\n",
    "    global head\n",
    "    n = -1  # 削除するノードの位置を定義\n",
    "    for i in range(MAX):\n",
    "        if data[i] == d:\n",
    "            n = i  # 該当するノードを見つけたらその位置をnに代入\n",
    "            break\n",
    "    if n == -1:  # MAXー１まで該当するノードが見つからないなら以下の動作をする\n",
    "        print(\"That data is not exist\")\n",
    "        return False\n",
    "    if n != head:\n",
    "        for i in range(MAX):\n",
    "            if (\n",
    "                pointer[i] == n\n",
    "            ):  # ポインターの位置が消したいノードの場所を指している場合\n",
    "                pointer[i] == pointer[n]  # そのポインタを次のポインタの値に変更\n",
    "    else:  # 消したいノードが先頭なら\n",
    "        head = pointer[n]  # 先頭を次のノードに変更\n",
    "        if head == None:  # データが空になれば\n",
    "            head = 0  # headは結局0\n",
    "    data[n] = None  # 消すノードのデータの値とポインタを削除\n",
    "    pointer[n] = None\n",
    "    print(\"data\", d, \"deleted\")\n",
    "    return True\n",
    "\n",
    "\n",
    "def put_list():\n",
    "    p = head  # 先頭の値を取得\n",
    "    while True:\n",
    "        print(data[p], end=\"→\")  # ノードの値を表示\n",
    "        if pointer[p] == None:  # 末尾ノードなら動作を終える\n",
    "            print(\"EOF\")  # End Of Fileの略\n",
    "            break\n",
    "        p = pointer[p]  # 終わらないなら次のノードへ移動\n",
    "\n",
    "\n",
    "print(data)"
   ]
  },
  {
   "cell_type": "markdown",
   "metadata": {},
   "source": [
    "### 計算量:O(n)\n",
    "\n",
    "最後に削除した、または追加したノードの位置を保持する変数などを用意すれば時短にできる可能性がある\n"
   ]
  },
  {
   "cell_type": "code",
   "execution_count": 9,
   "metadata": {},
   "outputs": [
    {
     "name": "stdout",
     "output_type": "stream",
     "text": [
      "data 10 added\n",
      "data 20 added\n",
      "data 30 added\n",
      "data 40 added\n",
      "data 50 added\n",
      "There are no vacancies of data\n",
      "data 10 deleted\n",
      "20→30→40→50→EOF\n",
      "[None, 20, 30, 40, 50]\n"
     ]
    }
   ],
   "source": [
    "for i in range(10, 70, 10):\n",
    "    add_list(i)\n",
    "del_list(10)\n",
    "put_list()\n",
    "print(data)"
   ]
  },
  {
   "cell_type": "markdown",
   "metadata": {},
   "source": [
    "# 3-4\n",
    "\n",
    "## 木構造\n"
   ]
  },
  {
   "cell_type": "markdown",
   "metadata": {},
   "source": [
    "## 木構造の説明\n",
    "\n",
    "- 木の頂点ー根\n",
    "- 木の末端ー葉\n",
    "- ノードにぶら下がるノードー子\n",
    "- ノードにぶら下がる相手ー親\n"
   ]
  },
  {
   "cell_type": "code",
   "execution_count": 3,
   "metadata": {},
   "outputs": [
    {
     "name": "stdout",
     "output_type": "stream",
     "text": [
      "指定の番号のノードを調べます\n",
      "何も入力せずにEnterを押すと終了します\n",
      "node1の値は20\n",
      "左の子は40\n",
      "右の子は50\n",
      "node2の値は30\n",
      "左の子は60\n",
      "右の子は存在しません\n",
      "node3の値は40\n",
      "左の子は存在しません\n",
      "右の子は存在しません\n"
     ]
    },
    {
     "ename": "ValueError",
     "evalue": "invalid literal for int() with base 10: 'x'",
     "output_type": "error",
     "traceback": [
      "\u001b[0;31m---------------------------------------------------------------------------\u001b[0m",
      "\u001b[0;31mValueError\u001b[0m                                Traceback (most recent call last)",
      "Cell \u001b[0;32mIn[3], line 23\u001b[0m\n\u001b[1;32m     21\u001b[0m \u001b[38;5;28;01mif\u001b[39;00m s \u001b[38;5;241m==\u001b[39m \u001b[38;5;124m\"\u001b[39m\u001b[38;5;124m\"\u001b[39m:\n\u001b[1;32m     22\u001b[0m     \u001b[38;5;28;01mbreak\u001b[39;00m\n\u001b[0;32m---> 23\u001b[0m n \u001b[38;5;241m=\u001b[39m \u001b[38;5;28;43mint\u001b[39;49m\u001b[43m(\u001b[49m\u001b[43ms\u001b[49m\u001b[43m)\u001b[49m\n\u001b[1;32m     24\u001b[0m \u001b[38;5;28;01mif\u001b[39;00m \u001b[38;5;241m0\u001b[39m \u001b[38;5;241m<\u001b[39m\u001b[38;5;241m=\u001b[39m n \u001b[38;5;129;01mand\u001b[39;00m n \u001b[38;5;241m<\u001b[39m MAX:  \u001b[38;5;66;03m# 入力された番号がノードの範囲内なら\u001b[39;00m\n\u001b[1;32m     25\u001b[0m     \u001b[38;5;28mprint\u001b[39m(\u001b[38;5;124m\"\u001b[39m\u001b[38;5;124mnode\u001b[39m\u001b[38;5;132;01m{}\u001b[39;00m\u001b[38;5;124mの値は\u001b[39m\u001b[38;5;132;01m{}\u001b[39;00m\u001b[38;5;124m\"\u001b[39m\u001b[38;5;241m.\u001b[39mformat(n, node[n][DATA]))\n",
      "\u001b[0;31mValueError\u001b[0m: invalid literal for int() with base 10: 'x'"
     ]
    }
   ],
   "source": [
    "LEFT = 0  # 左の子ノード番号(x=0)\n",
    "RIGHT = 1  # 右の子ノード番号(x=1)\n",
    "DATA = 2  # ノードの値(x=2)\n",
    "node = [  # y軸がノードの番号、x軸が左から左の子、右の子、ノードの値\n",
    "    [1, 2, 10],\n",
    "    [3, 4, 20],\n",
    "    [5, None, 30],\n",
    "    [None, None, 40],\n",
    "    [6, 7, 50],\n",
    "    [None, None, 60],\n",
    "    [None, None, 70],\n",
    "    [None, None, 80],\n",
    "]\n",
    "MAX = len(node)\n",
    "\n",
    "print(\"指定の番号のノードを調べます\")\n",
    "print(\"何も入力せずにEnterを押すと終了します\")\n",
    "\n",
    "while True:\n",
    "    s = input(\"number=\")\n",
    "    if s == \"\":\n",
    "        break\n",
    "    n = int(s)\n",
    "    if 0 <= n and n < MAX:  # 入力された番号がノードの範囲内なら\n",
    "        print(\"node{}の値は{}\".format(n, node[n][DATA]))\n",
    "        le = node[n][LEFT]\n",
    "        if le != None:\n",
    "            print(\"左の子は\" + str(node[le][DATA]))\n",
    "        else:\n",
    "            print(\"左の子は存在しません\")\n",
    "        ri = node[n][RIGHT]\n",
    "        if ri != None:\n",
    "            print(\"右の子は\" + str(node[ri][DATA]))\n",
    "        else:\n",
    "            print(\"右の子は存在しません\")\n",
    "    else:\n",
    "        print(\"0から\" + str(MAX - 1) + \"の範囲で入力してください\")"
   ]
  },
  {
   "cell_type": "code",
   "execution_count": 5,
   "metadata": {},
   "outputs": [
    {
     "name": "stdout",
     "output_type": "stream",
     "text": [
      "指定の番号のノードを調べます\n",
      "何も入力せずにEnterを押すと終了します\n",
      "node1の値は20\n",
      "左の子は40\n",
      "右の子は50\n",
      "node2の値は30\n",
      "左の子は60\n",
      "右の子は存在しません\n",
      "node3の値は40\n",
      "左の子は存在しません\n",
      "右の子は存在しません\n",
      "node4の値は50\n",
      "左の子は70\n",
      "右の子は80\n",
      "整数を入力してください\n",
      "整数を入力してください\n",
      "0から7の範囲で入力してください\n"
     ]
    }
   ],
   "source": [
    "LEFT = 0  # 左の子ノード番号(x=0)\n",
    "RIGHT = 1  # 右の子ノード番号(x=1)\n",
    "DATA = 2  # ノードの値(x=2)\n",
    "node = [  # y軸がノードの番号、x軸が左から左の子、右の子、ノードの値\n",
    "    [1, 2, 10],\n",
    "    [3, 4, 20],\n",
    "    [5, None, 30],\n",
    "    [None, None, 40],\n",
    "    [6, 7, 50],\n",
    "    [None, None, 60],\n",
    "    [None, None, 70],\n",
    "    [None, None, 80],\n",
    "]\n",
    "MAX = len(node)\n",
    "\n",
    "print(\"指定の番号のノードを調べます\")\n",
    "print(\"何も入力せずにEnterを押すと終了します\")\n",
    "\n",
    "while True:\n",
    "    s = input(\"number=\")\n",
    "    if s == \"\":\n",
    "        break\n",
    "    try:\n",
    "        n = int(s)\n",
    "    except:\n",
    "        print(\"整数を入力してください\")\n",
    "        continue\n",
    "    if 0 <= n and n < MAX:\n",
    "        print(\"node{}の値は{}\".format(n, node[n][DATA]))\n",
    "        le = node[n][LEFT]\n",
    "        if le != None:\n",
    "            print(\"左の子は\" + str(node[le][DATA]))\n",
    "        else:\n",
    "            print(\"左の子は存在しません\")\n",
    "        ri = node[n][RIGHT]\n",
    "        if ri != None:\n",
    "            print(\"右の子は\" + str(node[ri][DATA]))\n",
    "        else:\n",
    "            print(\"右の子は存在しません\")\n",
    "    else:\n",
    "        print(\"0から\" + str(MAX - 1) + \"の範囲で入力してください\")"
   ]
  },
  {
   "cell_type": "code",
   "execution_count": null,
   "metadata": {},
   "outputs": [],
   "source": []
  },
  {
   "cell_type": "code",
   "execution_count": null,
   "metadata": {},
   "outputs": [],
   "source": []
  },
  {
   "cell_type": "code",
   "execution_count": null,
   "metadata": {},
   "outputs": [],
   "source": []
  },
  {
   "cell_type": "code",
   "execution_count": null,
   "metadata": {},
   "outputs": [],
   "source": []
  }
 ],
 "metadata": {
  "kernelspec": {
   "display_name": "algovenv",
   "language": "python",
   "name": "python3"
  },
  "language_info": {
   "codemirror_mode": {
    "name": "ipython",
    "version": 3
   },
   "file_extension": ".py",
   "mimetype": "text/x-python",
   "name": "python",
   "nbconvert_exporter": "python",
   "pygments_lexer": "ipython3",
   "version": "3.10.12"
  }
 },
 "nbformat": 4,
 "nbformat_minor": 2
}
