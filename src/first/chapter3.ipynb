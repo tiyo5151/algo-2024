{
 "cells": [
  {
   "cell_type": "markdown",
   "metadata": {},
   "source": [
    "# 3-1\n"
   ]
  },
  {
   "cell_type": "code",
   "execution_count": 3,
   "metadata": {},
   "outputs": [
    {
     "name": "stdout",
     "output_type": "stream",
     "text": [
      "[0, 0, 0, 0, 0]\n"
     ]
    }
   ],
   "source": [
    "Max = 5\n",
    "stack = [0] * Max\n",
    "sp = 0  # stack pointer\n",
    "\n",
    "print(stack)\n",
    "\n",
    "\n",
    "def push(d):\n",
    "    global sp\n",
    "    if sp < Max:\n",
    "        stack[sp] = d\n",
    "        sp += 1\n",
    "        print(\"data\", d, \"added\")\n",
    "    else:\n",
    "        print(\"no more adding data\")\n",
    "\n",
    "\n",
    "def pop():\n",
    "    global sp\n",
    "    if sp > 0:\n",
    "        sp -= 1\n",
    "        data = stack[sp]\n",
    "        stack[sp] = 0  # clear the popped element\n",
    "        return data\n",
    "    else:\n",
    "        print(\"no pop data\")\n",
    "        return None"
   ]
  },
  {
   "cell_type": "code",
   "execution_count": null,
   "metadata": {},
   "outputs": [],
   "source": []
  },
  {
   "cell_type": "code",
   "execution_count": 4,
   "metadata": {},
   "outputs": [
    {
     "name": "stdout",
     "output_type": "stream",
     "text": [
      "data 0 added\n",
      "data 1 added\n",
      "data 2 added\n",
      "data 3 added\n",
      "data 4 added\n",
      "no more adding data\n",
      "[0, 1, 2, 3, 4]\n",
      "5\n",
      "[0, 1, 2, 3, 4]\n",
      "pop data 4\n",
      "4\n",
      "[0, 1, 2, 3, 0]\n",
      "pop data 3\n",
      "3\n",
      "[0, 1, 2, 0, 0]\n",
      "pop data 2\n",
      "2\n",
      "[0, 1, 0, 0, 0]\n",
      "pop data 1\n",
      "1\n",
      "[0, 0, 0, 0, 0]\n",
      "pop data 0\n",
      "0\n",
      "[0, 0, 0, 0, 0]\n",
      "no pop data\n",
      "pop data None\n"
     ]
    }
   ],
   "source": [
    "for i in range(6):\n",
    "    push(i)\n",
    "print(stack)\n",
    "for i in range(6):\n",
    "    print(sp)\n",
    "    print(stack)\n",
    "    d = pop()\n",
    "    print(\"pop data\", d)"
   ]
  },
  {
   "cell_type": "markdown",
   "metadata": {},
   "source": [
    "# 3-2\n"
   ]
  },
  {
   "cell_type": "code",
   "execution_count": 12,
   "metadata": {},
   "outputs": [],
   "source": [
    "Max = 6\n",
    "q = [0] * Max\n",
    "head = 0\n",
    "tail = 0\n",
    "\n",
    "\n",
    "def enqueue(d):\n",
    "    global tail\n",
    "    nt = (tail + 1) % Max\n",
    "\n",
    "    if nt == head:\n",
    "        print(\"no more adding data\")\n",
    "    else:\n",
    "        q[tail] = d\n",
    "        tail = nt\n",
    "        print(\"data\", d, \"added\")\n",
    "\n",
    "\n",
    "def dequeue():\n",
    "    global head\n",
    "    if head == tail:\n",
    "        print(\"no dequeue data\")\n",
    "        return None\n",
    "    else:\n",
    "        d = q[head]\n",
    "        q[head] = 0\n",
    "        head = (head + 1) % Max\n",
    "        return d"
   ]
  },
  {
   "cell_type": "code",
   "execution_count": 13,
   "metadata": {},
   "outputs": [
    {
     "name": "stdout",
     "output_type": "stream",
     "text": [
      "data 0 added\n",
      "data 1 added\n",
      "data 2 added\n",
      "data 3 added\n",
      "data 4 added\n",
      "no more adding data\n",
      "[0, 1, 2, 3, 4, 0]\n",
      "dequeue data 0\n",
      "dequeue data 1\n",
      "dequeue data 2\n",
      "dequeue data 3\n",
      "dequeue data 4\n",
      "no dequeue data\n",
      "dequeue data None\n",
      "[0, 0, 0, 0, 0, 0]\n"
     ]
    }
   ],
   "source": [
    "for i in range(6):\n",
    "    enqueue(i)\n",
    "print(q)\n",
    "for i in range(6):\n",
    "    d = dequeue()\n",
    "    print(\"dequeue data\", d)\n",
    "print(q)"
   ]
  },
  {
   "cell_type": "markdown",
   "metadata": {},
   "source": [
    "# 3-3\n"
   ]
  },
  {
   "cell_type": "code",
   "execution_count": null,
   "metadata": {},
   "outputs": [],
   "source": []
  }
 ],
 "metadata": {
  "kernelspec": {
   "display_name": "algovenv",
   "language": "python",
   "name": "python3"
  },
  "language_info": {
   "codemirror_mode": {
    "name": "ipython",
    "version": 3
   },
   "file_extension": ".py",
   "mimetype": "text/x-python",
   "name": "python",
   "nbconvert_exporter": "python",
   "pygments_lexer": "ipython3",
   "version": "3.10.12"
  }
 },
 "nbformat": 4,
 "nbformat_minor": 2
}
