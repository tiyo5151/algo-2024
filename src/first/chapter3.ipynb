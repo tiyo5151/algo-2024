{
 "cells": [
  {
   "cell_type": "markdown",
   "metadata": {},
   "source": [
    "# 3-1\n",
    "\n",
    "## スタック\n",
    "\n",
    "積み上げた本をイメージ(FILO)\n"
   ]
  },
  {
   "cell_type": "code",
   "execution_count": 3,
   "metadata": {},
   "outputs": [
    {
     "name": "stdout",
     "output_type": "stream",
     "text": [
      "[0, 0, 0, 0, 0]\n"
     ]
    }
   ],
   "source": [
    "Max = 5\n",
    "stack = [0] * Max\n",
    "sp = 0  # stack pointer\n",
    "\n",
    "print(stack)\n",
    "\n",
    "\n",
    "def push(d):\n",
    "    global sp\n",
    "    if sp < Max:\n",
    "        stack[sp] = d\n",
    "        sp += 1\n",
    "        print(\"data\", d, \"added\")\n",
    "    else:\n",
    "        print(\"no more adding data\")\n",
    "\n",
    "\n",
    "def pop():\n",
    "    global sp\n",
    "    if sp > 0:\n",
    "        sp -= 1\n",
    "        data = stack[sp]\n",
    "        stack[sp] = 0  # clear the popped element\n",
    "        return data\n",
    "    else:\n",
    "        print(\"no pop data\")\n",
    "        return None"
   ]
  },
  {
   "cell_type": "code",
   "execution_count": 4,
   "metadata": {},
   "outputs": [
    {
     "name": "stdout",
     "output_type": "stream",
     "text": [
      "data 0 added\n",
      "data 1 added\n",
      "data 2 added\n",
      "data 3 added\n",
      "data 4 added\n",
      "no more adding data\n",
      "[0, 1, 2, 3, 4]\n",
      "5\n",
      "[0, 1, 2, 3, 4]\n",
      "pop data 4\n",
      "4\n",
      "[0, 1, 2, 3, 0]\n",
      "pop data 3\n",
      "3\n",
      "[0, 1, 2, 0, 0]\n",
      "pop data 2\n",
      "2\n",
      "[0, 1, 0, 0, 0]\n",
      "pop data 1\n",
      "1\n",
      "[0, 0, 0, 0, 0]\n",
      "pop data 0\n",
      "0\n",
      "[0, 0, 0, 0, 0]\n",
      "no pop data\n",
      "pop data None\n"
     ]
    }
   ],
   "source": [
    "for i in range(6):\n",
    "    push(i)\n",
    "print(stack)\n",
    "for i in range(6):\n",
    "    print(sp)\n",
    "    print(stack)\n",
    "    d = pop()\n",
    "    print(\"pop data\", d)"
   ]
  },
  {
   "cell_type": "markdown",
   "metadata": {},
   "source": [
    "# 3-2\n",
    "\n",
    "## キュー\n",
    "\n",
    "人間の列をイメージ(FIFO)\n"
   ]
  },
  {
   "cell_type": "code",
   "execution_count": 12,
   "metadata": {},
   "outputs": [],
   "source": [
    "Max = 6\n",
    "q = [0] * Max\n",
    "head = 0\n",
    "tail = 0\n",
    "\n",
    "\n",
    "def enqueue(d):\n",
    "    global tail\n",
    "    nt = (tail + 1) % Max\n",
    "\n",
    "    if nt == head:\n",
    "        print(\"no more adding data\")\n",
    "    else:\n",
    "        q[tail] = d\n",
    "        tail = nt\n",
    "        print(\"data\", d, \"added\")\n",
    "\n",
    "\n",
    "def dequeue():\n",
    "    global head\n",
    "    if head == tail:\n",
    "        print(\"no dequeue data\")\n",
    "        return None\n",
    "    else:\n",
    "        d = q[head]\n",
    "        q[head] = 0\n",
    "        head = (head + 1) % Max\n",
    "        return d"
   ]
  },
  {
   "cell_type": "code",
   "execution_count": 13,
   "metadata": {},
   "outputs": [
    {
     "name": "stdout",
     "output_type": "stream",
     "text": [
      "data 0 added\n",
      "data 1 added\n",
      "data 2 added\n",
      "data 3 added\n",
      "data 4 added\n",
      "no more adding data\n",
      "[0, 1, 2, 3, 4, 0]\n",
      "dequeue data 0\n",
      "dequeue data 1\n",
      "dequeue data 2\n",
      "dequeue data 3\n",
      "dequeue data 4\n",
      "no dequeue data\n",
      "dequeue data None\n",
      "[0, 0, 0, 0, 0, 0]\n"
     ]
    }
   ],
   "source": [
    "for i in range(6):\n",
    "    enqueue(i)\n",
    "print(q)\n",
    "for i in range(6):\n",
    "    d = dequeue()\n",
    "    print(\"dequeue data\", d)\n",
    "print(q)"
   ]
  },
  {
   "cell_type": "markdown",
   "metadata": {},
   "source": [
    "# 3-3\n",
    "\n",
    "## 配列\n"
   ]
  },
  {
   "cell_type": "code",
   "execution_count": 10,
   "metadata": {},
   "outputs": [
    {
     "name": "stdout",
     "output_type": "stream",
     "text": [
      "[None, None, None, None, None]\n"
     ]
    }
   ],
   "source": [
    "MAX = 5\n",
    "data = [None] * MAX  # ノードの値\n",
    "pointer = [None] * MAX  # 次のノードの位置を示す値\n",
    "head = 0\n",
    "\n",
    "\n",
    "def add_list(d):\n",
    "    n = -1  # 配列の位置を定義\n",
    "    for i in range(MAX):\n",
    "        if data[i] == None:\n",
    "            n = i  # 先頭から初めて最初の空のノードの位置を決める\n",
    "            break\n",
    "    if (\n",
    "        n == -1\n",
    "    ):  # データを入れられる個数が今回は５個なのでそれを超えたら以下の動作をする。\n",
    "        print(\"There are no vacancies of data\")\n",
    "        return False\n",
    "    for i in range(MAX):\n",
    "        if data[i] != None and pointer[i] == None:  # 最後尾のノードを示す\n",
    "            pointer[i] = n\n",
    "            break\n",
    "    data[n] = d\n",
    "    pointer[n] = None\n",
    "    print(\"data\", d, \"added\")\n",
    "    return True\n",
    "\n",
    "\n",
    "def del_list(d):\n",
    "    global head\n",
    "    n = -1  # 削除するノードの位置を定義\n",
    "    for i in range(MAX):\n",
    "        if data[i] == d:\n",
    "            n = i  # 該当するノードを見つけたらその位置をnに代入\n",
    "            break\n",
    "    if n == -1:  # MAXー１まで該当するノードが見つからないなら以下の動作をする\n",
    "        print(\"That data is not exist\")\n",
    "        return False\n",
    "    if n != head:\n",
    "        for i in range(MAX):\n",
    "            if (\n",
    "                pointer[i] == n\n",
    "            ):  # ポインターの位置が消したいノードの場所を指している場合\n",
    "                pointer[i] == pointer[n]  # そのポインタを次のポインタの値に変更\n",
    "    else:  # 消したいノードが先頭なら\n",
    "        head = pointer[n]  # 先頭を次のノードに変更\n",
    "        if head == None:  # データが空になれば\n",
    "            head = 0  # headは結局0\n",
    "    data[n] = None  # 消すノードのデータの値とポインタを削除\n",
    "    pointer[n] = None\n",
    "    print(\"data\", d, \"deleted\")\n",
    "    return True\n",
    "\n",
    "\n",
    "def put_list():\n",
    "    p = head  # 先頭の値を取得\n",
    "    while True:\n",
    "        print(data[p], end=\"→\")  # ノードの値を表示\n",
    "        if pointer[p] == None:  # 末尾ノードなら動作を終える\n",
    "            print(\"EOF\")  # End Of Fileの略\n",
    "            break\n",
    "        p = pointer[p]  # 終わらないなら次のノードへ移動\n",
    "\n",
    "\n",
    "print(data)"
   ]
  },
  {
   "cell_type": "markdown",
   "metadata": {},
   "source": [
    "### 計算量:O(n)\n",
    "\n",
    "最後に削除した、または追加したノードの位置を保持する変数などを用意すれば時短にできる可能性がある\n"
   ]
  },
  {
   "cell_type": "code",
   "execution_count": 9,
   "metadata": {},
   "outputs": [
    {
     "name": "stdout",
     "output_type": "stream",
     "text": [
      "data 10 added\n",
      "data 20 added\n",
      "data 30 added\n",
      "data 40 added\n",
      "data 50 added\n",
      "There are no vacancies of data\n",
      "data 10 deleted\n",
      "20→30→40→50→EOF\n",
      "[None, 20, 30, 40, 50]\n"
     ]
    }
   ],
   "source": [
    "for i in range(10, 70, 10):\n",
    "    add_list(i)\n",
    "del_list(10)\n",
    "put_list()\n",
    "print(data)"
   ]
  },
  {
   "cell_type": "markdown",
   "metadata": {},
   "source": [
    "# 3-4\n",
    "\n",
    "## 木構造\n"
   ]
  },
  {
   "cell_type": "markdown",
   "metadata": {},
   "source": [
    "## 木構造の説明\n",
    "\n",
    "- 木の頂点ー根\n",
    "- 木の末端ー葉\n",
    "- ノードにぶら下がるノードー子\n",
    "- ノードにぶら下がる相手ー親\n"
   ]
  },
  {
   "cell_type": "code",
   "execution_count": 3,
   "metadata": {},
   "outputs": [
    {
     "name": "stdout",
     "output_type": "stream",
     "text": [
      "指定の番号のノードを調べます\n",
      "何も入力せずにEnterを押すと終了します\n",
      "node1の値は20\n",
      "左の子は40\n",
      "右の子は50\n",
      "node2の値は30\n",
      "左の子は60\n",
      "右の子は存在しません\n",
      "node3の値は40\n",
      "左の子は存在しません\n",
      "右の子は存在しません\n"
     ]
    },
    {
     "ename": "ValueError",
     "evalue": "invalid literal for int() with base 10: 'x'",
     "output_type": "error",
     "traceback": [
      "\u001b[0;31m---------------------------------------------------------------------------\u001b[0m",
      "\u001b[0;31mValueError\u001b[0m                                Traceback (most recent call last)",
      "Cell \u001b[0;32mIn[3], line 23\u001b[0m\n\u001b[1;32m     21\u001b[0m \u001b[38;5;28;01mif\u001b[39;00m s \u001b[38;5;241m==\u001b[39m \u001b[38;5;124m\"\u001b[39m\u001b[38;5;124m\"\u001b[39m:\n\u001b[1;32m     22\u001b[0m     \u001b[38;5;28;01mbreak\u001b[39;00m\n\u001b[0;32m---> 23\u001b[0m n \u001b[38;5;241m=\u001b[39m \u001b[38;5;28;43mint\u001b[39;49m\u001b[43m(\u001b[49m\u001b[43ms\u001b[49m\u001b[43m)\u001b[49m\n\u001b[1;32m     24\u001b[0m \u001b[38;5;28;01mif\u001b[39;00m \u001b[38;5;241m0\u001b[39m \u001b[38;5;241m<\u001b[39m\u001b[38;5;241m=\u001b[39m n \u001b[38;5;129;01mand\u001b[39;00m n \u001b[38;5;241m<\u001b[39m MAX:  \u001b[38;5;66;03m# 入力された番号がノードの範囲内なら\u001b[39;00m\n\u001b[1;32m     25\u001b[0m     \u001b[38;5;28mprint\u001b[39m(\u001b[38;5;124m\"\u001b[39m\u001b[38;5;124mnode\u001b[39m\u001b[38;5;132;01m{}\u001b[39;00m\u001b[38;5;124mの値は\u001b[39m\u001b[38;5;132;01m{}\u001b[39;00m\u001b[38;5;124m\"\u001b[39m\u001b[38;5;241m.\u001b[39mformat(n, node[n][DATA]))\n",
      "\u001b[0;31mValueError\u001b[0m: invalid literal for int() with base 10: 'x'"
     ]
    }
   ],
   "source": [
    "LEFT = 0  # 左の子ノード番号(x=0)\n",
    "RIGHT = 1  # 右の子ノード番号(x=1)\n",
    "DATA = 2  # ノードの値(x=2)\n",
    "node = [  # y軸がノードの番号、x軸が左から左の子、右の子、ノードの値\n",
    "    [1, 2, 10],\n",
    "    [3, 4, 20],\n",
    "    [5, None, 30],\n",
    "    [None, None, 40],\n",
    "    [6, 7, 50],\n",
    "    [None, None, 60],\n",
    "    [None, None, 70],\n",
    "    [None, None, 80],\n",
    "]\n",
    "MAX = len(node)\n",
    "\n",
    "print(\"指定の番号のノードを調べます\")\n",
    "print(\"何も入力せずにEnterを押すと終了します\")\n",
    "\n",
    "while True:\n",
    "    s = input(\"number=\")\n",
    "    if s == \"\":\n",
    "        break\n",
    "    n = int(s)\n",
    "    if 0 <= n and n < MAX:  # 入力された番号がノードの範囲内なら\n",
    "        print(\"node{}の値は{}\".format(n, node[n][DATA]))\n",
    "        le = node[n][LEFT]\n",
    "        if le != None:\n",
    "            print(\"左の子は\" + str(node[le][DATA]))\n",
    "        else:\n",
    "            print(\"左の子は存在しません\")\n",
    "        ri = node[n][RIGHT]\n",
    "        if ri != None:\n",
    "            print(\"右の子は\" + str(node[ri][DATA]))\n",
    "        else:\n",
    "            print(\"右の子は存在しません\")\n",
    "    else:\n",
    "        print(\"0から\" + str(MAX - 1) + \"の範囲で入力してください\")"
   ]
  },
  {
   "cell_type": "code",
   "execution_count": 5,
   "metadata": {},
   "outputs": [
    {
     "name": "stdout",
     "output_type": "stream",
     "text": [
      "指定の番号のノードを調べます\n",
      "何も入力せずにEnterを押すと終了します\n",
      "node1の値は20\n",
      "左の子は40\n",
      "右の子は50\n",
      "node2の値は30\n",
      "左の子は60\n",
      "右の子は存在しません\n",
      "node3の値は40\n",
      "左の子は存在しません\n",
      "右の子は存在しません\n",
      "node4の値は50\n",
      "左の子は70\n",
      "右の子は80\n",
      "整数を入力してください\n",
      "整数を入力してください\n",
      "0から7の範囲で入力してください\n"
     ]
    }
   ],
   "source": [
    "LEFT = 0  # 左の子ノード番号(x=0)\n",
    "RIGHT = 1  # 右の子ノード番号(x=1)\n",
    "DATA = 2  # ノードの値(x=2)\n",
    "node = [  # y軸がノードの番号、x軸が左から左の子、右の子、ノードの値\n",
    "    [1, 2, 10],\n",
    "    [3, 4, 20],\n",
    "    [5, None, 30],\n",
    "    [None, None, 40],\n",
    "    [6, 7, 50],\n",
    "    [None, None, 60],\n",
    "    [None, None, 70],\n",
    "    [None, None, 80],\n",
    "]\n",
    "MAX = len(node)\n",
    "\n",
    "print(\"指定の番号のノードを調べます\")\n",
    "print(\"何も入力せずにEnterを押すと終了します\")\n",
    "\n",
    "while True:\n",
    "    s = input(\"number=\")\n",
    "    if s == \"\":\n",
    "        break\n",
    "    try:\n",
    "        n = int(s)\n",
    "    except:\n",
    "        print(\"整数を入力してください\")\n",
    "        continue\n",
    "    if 0 <= n and n < MAX:\n",
    "        print(\"node{}の値は{}\".format(n, node[n][DATA]))\n",
    "        le = node[n][LEFT]\n",
    "        if le != None:\n",
    "            print(\"左の子は\" + str(node[le][DATA]))\n",
    "        else:\n",
    "            print(\"左の子は存在しません\")\n",
    "        ri = node[n][RIGHT]\n",
    "        if ri != None:\n",
    "            print(\"右の子は\" + str(node[ri][DATA]))\n",
    "        else:\n",
    "            print(\"右の子は存在しません\")\n",
    "    else:\n",
    "        print(\"0から\" + str(MAX - 1) + \"の範囲で入力してください\")"
   ]
  },
  {
   "cell_type": "markdown",
   "metadata": {},
   "source": [
    "# 3-5\n",
    "\n",
    "## グラフ\n"
   ]
  },
  {
   "cell_type": "markdown",
   "metadata": {},
   "source": [
    "**グラフ**とは複数のノードが線で結ばれたデータ構造のこと\n",
    "\n",
    "- グラフの例ー路線図\n",
    "- 無向グラフ、有向グラフ\n"
   ]
  },
  {
   "cell_type": "code",
   "execution_count": 13,
   "metadata": {},
   "outputs": [],
   "source": [
    "import networkx as nx\n",
    "import matplotlib.pyplot as plt"
   ]
  },
  {
   "cell_type": "markdown",
   "metadata": {},
   "source": [
    "## 無向グラフ\n"
   ]
  },
  {
   "cell_type": "code",
   "execution_count": 26,
   "metadata": {},
   "outputs": [
    {
     "data": {
      "image/png": "[encoded data removed]",
      "text/plain": [
       "<Figure size 640x480 with 1 Axes>"
      ]
     },
     "metadata": {},
     "output_type": "display_data"
    }
   ],
   "source": [
    "G1 = nx.Graph()\n",
    "\n",
    "G1.add_node(0)\n",
    "G1.add_node(1)\n",
    "G1.add_node(2)\n",
    "G1.add_node(3)\n",
    "G1.add_node(4)\n",
    "\n",
    "G1.add_edge(0, 1)\n",
    "G1.add_edge(0, 2)\n",
    "G1.add_edge(1, 2)\n",
    "G1.add_edge(1, 3)\n",
    "G1.add_edge(2, 4)\n",
    "G1.add_edge(3, 4)\n",
    "\n",
    "nx.draw(G1, with_labels=True)"
   ]
  },
  {
   "cell_type": "markdown",
   "metadata": {},
   "source": [
    "上記のグラフを二次元配列で定義すると\n"
   ]
  },
  {
   "cell_type": "code",
   "execution_count": 29,
   "metadata": {},
   "outputs": [],
   "source": [
    "G1 = [  # 結ばれている場合は１、結ばれていない場合は０s\n",
    "    # 0  1  2  3  4\n",
    "    [0, 1, 1, 0, 0],  # 0\n",
    "    [1, 0, 1, 1, 0],  # 1\n",
    "    [1, 1, 0, 0, 1],  # 2\n",
    "    [0, 1, 0, 0, 1],  # 3\n",
    "    [0, 0, 1, 1, 0],  # 4\n",
    "]\n",
    "# グラフは要素[0][0]と最後尾の要素[y][x]で線対称"
   ]
  },
  {
   "cell_type": "markdown",
   "metadata": {},
   "source": [
    "## 有向グラフ\n"
   ]
  },
  {
   "cell_type": "code",
   "execution_count": 39,
   "metadata": {},
   "outputs": [
    {
     "data": {
      "image/png": "[encoded data removed]",
      "text/plain": [
       "<Figure size 640x480 with 1 Axes>"
      ]
     },
     "metadata": {},
     "output_type": "display_data"
    }
   ],
   "source": [
    "G2 = nx.DiGraph()\n",
    "\n",
    "G2.add_node(0)\n",
    "G2.add_node(1)\n",
    "G2.add_node(2)\n",
    "G2.add_node(3)\n",
    "G2.add_node(4)\n",
    "\n",
    "G2.add_edge(0, 1)\n",
    "G2.add_edge(0, 2)\n",
    "G2.add_edge(1, 2)\n",
    "G2.add_edge(1, 3)\n",
    "G2.add_edge(3, 4)\n",
    "G2.add_edge(4, 2)\n",
    "G2.add_edge(4, 3)\n",
    "\n",
    "nx.draw(G2, with_labels=True)"
   ]
  },
  {
   "cell_type": "code",
   "execution_count": 2,
   "metadata": {},
   "outputs": [],
   "source": [
    "G2 = [  # 結ばれている場合は１、結ばれていない場合は０\n",
    "    # 0  1  2  3  4\n",
    "    [0, 1, 1, 0, 0],  # 0\n",
    "    [0, 0, 1, 1, 0],  # 1\n",
    "    [0, 0, 0, 0, 0],  # 2\n",
    "    [0, 0, 0, 0, 1],  # 3\n",
    "    [0, 0, 1, 1, 0],  # 4\n",
    "]  # 今回は線対称ではない\n",
    "\n",
    "# 0->1には行けるが1->0には行けないので[0][1]は１で[1][0]は０\n",
    "# 以上の二次元配列を隣接行列（n x n）という"
   ]
  },
  {
   "cell_type": "markdown",
   "metadata": {},
   "source": [
    "隣接行列で木を表す\n"
   ]
  },
  {
   "cell_type": "code",
   "execution_count": 55,
   "metadata": {},
   "outputs": [
    {
     "data": {
      "image/png": "[encoded data removed]",
      "text/plain": [
       "<Figure size 640x480 with 1 Axes>"
      ]
     },
     "metadata": {},
     "output_type": "display_data"
    }
   ],
   "source": [
    "tree = nx.DiGraph()\n",
    "\n",
    "tree.add_node(0)\n",
    "tree.add_node(1)\n",
    "tree.add_node(2)\n",
    "tree.add_node(3)\n",
    "tree.add_node(4)\n",
    "\n",
    "tree.add_edge(0, 1)\n",
    "tree.add_edge(0, 2)\n",
    "tree.add_edge(1, 3)\n",
    "tree.add_edge(1, 4)\n",
    "\n",
    "nx.draw(tree, with_labels=True)"
   ]
  },
  {
   "cell_type": "code",
   "execution_count": 56,
   "metadata": {},
   "outputs": [],
   "source": [
    "tree = [\n",
    "    # 0  1  2  3  4\n",
    "    [0, 1, 1, 0, 0],  # 0\n",
    "    [1, 0, 0, 1, 1],  # 1\n",
    "    [1, 0, 0, 0, 0],  # 2\n",
    "    [0, 1, 0, 0, 0],  # 3\n",
    "    [0, 1, 0, 0, 0],  # 4\n",
    "]  # 木構造は線対称"
   ]
  },
  {
   "cell_type": "markdown",
   "metadata": {},
   "source": [
    "G1 のノード間のつながりを出力\n"
   ]
  },
  {
   "cell_type": "code",
   "execution_count": 57,
   "metadata": {},
   "outputs": [
    {
     "name": "stdout",
     "output_type": "stream",
     "text": [
      "{0} <-> {1}\n",
      "{0} <-> {2}\n",
      "{1} <-> {2}\n",
      "{1} <-> {3}\n",
      "{2} <-> {4}\n",
      "{3} <-> {4}\n"
     ]
    }
   ],
   "source": [
    "node = [\"{0}\", \"{1}\", \"{2}\", \"{3}\", \"{4}\"]\n",
    "\n",
    "for y in range(5):\n",
    "    for x in range(y, 5):\n",
    "        if G1[y][x] == 1 and G1[x][y] == 1:\n",
    "            print(node[y], \"<->\", node[x])"
   ]
  },
  {
   "cell_type": "markdown",
   "metadata": {},
   "source": [
    "G2 のノードのつながり\n"
   ]
  },
  {
   "cell_type": "code",
   "execution_count": null,
   "metadata": {},
   "outputs": [
    {
     "name": "stdout",
     "output_type": "stream",
     "text": [
      "{0} --> {1}\n",
      "{0} --> {2}\n",
      "{1} --> {2}\n",
      "{1} --> {3}\n",
      "{2} <-- {4}\n",
      "{3} <-> {4}\n"
     ]
    }
   ],
   "source": [
    "node = [\"{0}\", \"{1}\", \"{2}\", \"{3}\", \"{4}\"]\n",
    "arrow = [\"\", \"-->\", \"<--\", \"<->\"]\n",
    "\n",
    "for y in range(5):\n",
    "    for x in range(y, 5):\n",
    "        e1 = G2[y][x]\n",
    "        e2 = G2[x][y]\n",
    "        a = e1 + e2 * 2  # aが０なら線はなし、１なら一方向、２なら逆方向、３なら両方向\n",
    "        if a > 0:\n",
    "            print(node[y], arrow[a], node[x])"
   ]
  },
  {
   "cell_type": "markdown",
   "metadata": {},
   "source": [
    "# 3-1\n",
    "\n",
    "a:3,b:1\n"
   ]
  },
  {
   "cell_type": "markdown",
   "metadata": {},
   "source": [
    "# 3-2\n",
    "\n",
    "① 最初\n",
    "②FIFO\n"
   ]
  },
  {
   "cell_type": "markdown",
   "metadata": {},
   "source": [
    "# 3-3\n",
    "\n",
    "① A:片方向リスト\n",
    "② D:双方向循環リスト\n"
   ]
  },
  {
   "cell_type": "markdown",
   "metadata": {},
   "source": [
    "# 3-4\n",
    "\n",
    "① ３\n",
    "②None\n",
    "③ ６\n"
   ]
  },
  {
   "cell_type": "markdown",
   "metadata": {},
   "source": [
    "# 3-5\n",
    "\n",
    "C\n"
   ]
  },
  {
   "cell_type": "markdown",
   "metadata": {},
   "source": [
    "# Extra Lesson 3-1\n"
   ]
  },
  {
   "cell_type": "code",
   "execution_count": 1,
   "metadata": {},
   "outputs": [],
   "source": [
    "import queue"
   ]
  },
  {
   "cell_type": "code",
   "execution_count": null,
   "metadata": {},
   "outputs": [
    {
     "name": "stdout",
     "output_type": "stream",
     "text": [
      "queue\n",
      "0→1→2→3→4→5→6→7→8→9→\n",
      "\n",
      "stack\n",
      "9→8→7→6→5→4→3→2→1→0→"
     ]
    }
   ],
   "source": [
    "MAX = 10\n",
    "\n",
    "print(\"queue\")\n",
    "q = queue.Queue()\n",
    "for i in range(MAX):\n",
    "    q.put(i)\n",
    "for i in range(MAX):\n",
    "    print(q.get(), end=\"→\")\n",
    "print(\"\\n\")\n",
    "print(\"stack\")\n",
    "s = queue.LifoQueue()\n",
    "for i in range(MAX):\n",
    "    s.put(i)\n",
    "for i in range(MAX):\n",
    "    print(s.get(), end=\"→\")"
   ]
  },
  {
   "cell_type": "markdown",
   "metadata": {},
   "source": [
    "# Extra Lesson 3-2\n"
   ]
  },
  {
   "cell_type": "code",
   "execution_count": 4,
   "metadata": {},
   "outputs": [],
   "source": [
    "f = open(\"text.txt\", \"w\", encoding=\"utf-8\")\n",
    "for i in range(1, 11):\n",
    "    data = str(2**i) + \"\\n\"\n",
    "    f.write(data)\n",
    "f.close()"
   ]
  },
  {
   "cell_type": "code",
   "execution_count": 15,
   "metadata": {},
   "outputs": [
    {
     "name": "stdout",
     "output_type": "stream",
     "text": [
      "[0, 0, 0, 0, 0, 0, 0, 0, 0, 0, 0]\n",
      "[2, 4, 8, 16, 32, 64, 128, 256, 512, 1024, 0]\n"
     ]
    }
   ],
   "source": [
    "f = open(\"text.txt\", \"r\", encoding=\"utf-8\")\n",
    "r = f.read()\n",
    "# print(r)\n",
    "f.close()\n",
    "s = r.split(\"\\n\")\n",
    "# print(s)\n",
    "n = len(s)\n",
    "# print(n)\n",
    "data = [0] * n\n",
    "print(data)\n",
    "for i in range(n):\n",
    "    if s[i] != \"\":\n",
    "        data[i] = int(s[i])\n",
    "print(data)"
   ]
  },
  {
   "cell_type": "code",
   "execution_count": null,
   "metadata": {},
   "outputs": [],
   "source": [
    "a"
   ]
  },
  {
   "cell_type": "code",
   "execution_count": null,
   "metadata": {},
   "outputs": [],
   "source": []
  },
  {
   "cell_type": "code",
   "execution_count": null,
   "metadata": {},
   "outputs": [],
   "source": []
  },
  {
   "cell_type": "code",
   "execution_count": null,
   "metadata": {},
   "outputs": [],
   "source": []
  },
  {
   "cell_type": "code",
   "execution_count": null,
   "metadata": {},
   "outputs": [],
   "source": []
  },
  {
   "cell_type": "code",
   "execution_count": null,
   "metadata": {},
   "outputs": [],
   "source": []
  },
  {
   "cell_type": "code",
   "execution_count": null,
   "metadata": {},
   "outputs": [],
   "source": []
  },
  {
   "cell_type": "code",
   "execution_count": null,
   "metadata": {},
   "outputs": [],
   "source": []
  },
  {
   "cell_type": "code",
   "execution_count": null,
   "metadata": {},
   "outputs": [],
   "source": []
  },
  {
   "cell_type": "code",
   "execution_count": null,
   "metadata": {},
   "outputs": [],
   "source": []
  },
  {
   "cell_type": "code",
   "execution_count": null,
   "metadata": {},
   "outputs": [],
   "source": []
  },
  {
   "cell_type": "code",
   "execution_count": null,
   "metadata": {},
   "outputs": [],
   "source": []
  },
  {
   "cell_type": "code",
   "execution_count": null,
   "metadata": {},
   "outputs": [],
   "source": []
  },
  {
   "cell_type": "code",
   "execution_count": null,
   "metadata": {},
   "outputs": [],
   "source": []
  },
  {
   "cell_type": "code",
   "execution_count": null,
   "metadata": {},
   "outputs": [],
   "source": []
  },
  {
   "cell_type": "code",
   "execution_count": null,
   "metadata": {},
   "outputs": [],
   "source": []
  },
  {
   "cell_type": "code",
   "execution_count": null,
   "metadata": {},
   "outputs": [],
   "source": []
  },
  {
   "cell_type": "code",
   "execution_count": null,
   "metadata": {},
   "outputs": [],
   "source": []
  }
 ],
 "metadata": {
  "kernelspec": {
   "display_name": "algovenv",
   "language": "python",
   "name": "python3"
  },
  "language_info": {
   "codemirror_mode": {
    "name": "ipython",
    "version": 3
   },
   "file_extension": ".py",
   "mimetype": "text/x-python",
   "name": "python",
   "nbconvert_exporter": "python",
   "pygments_lexer": "ipython3",
   "version": "3.10.12"
  }
 },
 "nbformat": 4,
 "nbformat_minor": 2
}
