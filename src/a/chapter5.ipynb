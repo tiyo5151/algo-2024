{
 "cells": [
  {
   "cell_type": "markdown",
   "metadata": {},
   "source": [
    "# 選択ソート (Selection Sort)\n",
    "\n",
    "選択ソートは、配列の中から最小値を探して先頭から順に並べていくシンプルなソートアルゴリズムです。\n",
    "\n",
    "## アルゴリズムの流れ\n",
    "\n",
    "例として、以下の配列をソートする場合を考えます:\n"
   ]
  },
  {
   "cell_type": "code",
   "execution_count": null,
   "metadata": {},
   "outputs": [],
   "source": [
    "[5, 3, 4, 1, 2]"
   ]
  },
  {
   "cell_type": "markdown",
   "metadata": {},
   "source": [
    "1. 最初のステップ:\n",
    "\n",
    "   - 未ソート部分[5, 3, 4, 1, 2]から最小値「1」を見つける\n",
    "   - 「1」を先頭要素と交換\n",
    "   - 結果: [1, 3, 4, 5, 2]\n",
    "\n",
    "2. 2 番目のステップ:\n",
    "\n",
    "   - 未ソート部分[3, 4, 5, 2]から最小値「2」を見つける\n",
    "   - 「2」を 2 番目の要素と交換\n",
    "   - 結果: [1, 2, 4, 5, 3]\n",
    "\n",
    "3. 3 番目のステップ:\n",
    "\n",
    "   - 未ソート部分[4, 5, 3]から最小値「3」を見つける\n",
    "   - 「3」を 3 番目の要素と交換\n",
    "   - 結果: [1, 2, 3, 5, 4]\n",
    "\n",
    "4. 4 番目のステップ:\n",
    "\n",
    "   - 未ソート部分[5, 4]から最小値「4」を見つける\n",
    "   - 「4」を 4 番目の要素と交換\n",
    "   - 結果: [1, 2, 3, 4, 5]\n",
    "\n",
    "5. 最後のステップ:\n",
    "   - 未ソート部分が[5]のみとなり、ソート完了\n",
    "\n",
    "計算量は O(n²) となります。これは、n 個の要素に対して、各ステップで最小値を探すのに最大 n-1 回の比較が必要なためです。\n"
   ]
  },
  {
   "cell_type": "code",
   "execution_count": 2,
   "metadata": {},
   "outputs": [
    {
     "name": "stdout",
     "output_type": "stream",
     "text": [
      "[9, 3, 7, 1, 4, 2, 5, 8, 6, 0] 元のデータ\n",
      "[0, 1, 2, 3, 4, 5, 6, 7, 8, 9] ソート後のデータ\n"
     ]
    }
   ],
   "source": [
    "data = [9, 3, 7, 1, 4, 2, 5, 8, 6, 0]\n",
    "print(data, \"元のデータ\")\n",
    "\n",
    "for i in range(0, len(data)):\n",
    "    m = i\n",
    "    for j in range(i + 1, len(data)):\n",
    "        if data[j] < data[m]:\n",
    "            m = j\n",
    "    data[i], data[m] = data[m], data[i]\n",
    "\n",
    "print(data, \"ソート後のデータ\")"
   ]
  }
 ],
 "metadata": {
  "kernelspec": {
   "display_name": "algovenv",
   "language": "python",
   "name": "python3"
  },
  "language_info": {
   "codemirror_mode": {
    "name": "ipython",
    "version": 3
   },
   "file_extension": ".py",
   "mimetype": "text/x-python",
   "name": "python",
   "nbconvert_exporter": "python",
   "pygments_lexer": "ipython3",
   "version": "3.10.12"
  }
 },
 "nbformat": 4,
 "nbformat_minor": 2
}
