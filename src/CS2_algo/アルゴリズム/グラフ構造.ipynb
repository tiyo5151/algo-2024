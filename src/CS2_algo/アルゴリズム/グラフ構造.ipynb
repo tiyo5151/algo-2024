{
 "cells": [
  {
   "cell_type": "markdown",
   "metadata": {},
   "source": [
    "ワークスペース情報を収集しています\n",
    "\n",
    "# グラ φ 構造 (Graph Structure)\n",
    "\n",
    "## 定義\n",
    "\n",
    "グラフ構造は、ノード(頂点)とそれらを結ぶエッジ(辺)で構成されるデータ構造です。src/a/chapter3.ipynb で説明されているように、以下の 2 種類があります。\n",
    "\n",
    "## 種類\n",
    "\n",
    "1. **無向グラフ**\n",
    "\n",
    "- ノード間の接続に方向性がない\n",
    "- 双方向の関係性を表現\n",
    "- 実装例:\n"
   ]
  },
  {
   "cell_type": "code",
   "execution_count": null,
   "metadata": {},
   "outputs": [],
   "source": [
    "G1 = [  # 隣接行列による表現\n",
    "    [0, 1, 1, 0, 0],  # 0\n",
    "    [1, 0, 1, 1, 0],  # 1\n",
    "    [1, 1, 0, 0, 1],  # 2\n",
    "    [0, 1, 0, 0, 1],  # 3\n",
    "    [0, 0, 1, 1, 0],  # 4\n",
    "]"
   ]
  },
  {
   "cell_type": "markdown",
   "metadata": {},
   "source": [
    "2. **有向グラフ**\n",
    "\n",
    "- ノード間の接続に方向性がある\n",
    "- 一方向の関係性を表現\n",
    "- 実装例:\n"
   ]
  },
  {
   "cell_type": "code",
   "execution_count": null,
   "metadata": {},
   "outputs": [],
   "source": [
    "G2 = [\n",
    "    [0, 1, 1, 0, 0],  # 0から出る矢印\n",
    "    [0, 0, 1, 1, 0],  # 1から出る矢印\n",
    "    [0, 0, 0, 0, 0],  # 2から出る矢印\n",
    "    [0, 0, 0, 0, 1],  # 3から出る矢印\n",
    "    [0, 0, 1, 1, 0],  # 4から出る矢印\n",
    "]"
   ]
  },
  {
   "cell_type": "markdown",
   "metadata": {},
   "source": [
    "## 表現方法\n",
    "\n",
    "1. **隣接行列**\n",
    "\n",
    "- n×n の二次元配列で表現\n",
    "- 要素[i][j]は頂点 i から頂点 j への接続を表す\n",
    "- メモリ効率: O(n²)\n",
    "\n",
    "2. **隣接リスト**\n",
    "\n",
    "- 各ノードに接続先のリストを持たせる\n",
    "- メモリ効率: O(|V|+|E|) (V:頂点数、E:辺数)\n",
    "\n",
    "## 用途\n",
    "\n",
    "- 路線図\n",
    "- ソーシャルネットワーク\n",
    "- Web ページのリンク構造\n",
    "- ネットワークトポロジー\n",
    "\n",
    "## 操作の計算量\n",
    "\n",
    "- 辺の存在確認: O(1) (隣接行列)、O(次数) (隣接リスト)\n",
    "- 全ての隣接頂点の走査: O(n) (隣接行列)、O(次数) (隣接リスト)\n",
    "\n",
    "1 種類のライセンスで類似のコードが見つかりました\n",
    "\n",
    "## 実装例\n"
   ]
  },
  {
   "cell_type": "code",
   "execution_count": null,
   "metadata": {},
   "outputs": [],
   "source": [
    "class Node:\n",
    "def __init_(self, value):\n",
    "  self.value = value\n",
    "  self.traversed = False\n",
    "  self.links = []\n",
    "  def _str_(self):\n",
    "    return str(self.value)\n",
    "  def add_link(self, node):\n",
    "    self.links.append(node)\n",
    "  def adjacent (self, node):\n",
    "    return node in self.links"
   ]
  },
  {
   "cell_type": "markdown",
   "metadata": {},
   "source": [
    "# 深さ優先探索\n"
   ]
  },
  {
   "cell_type": "code",
   "execution_count": null,
   "metadata": {},
   "outputs": [],
   "source": [
    "def dfs(node):\n",
    "    node.traversed = True\n",
    "    print(node, end=\", \")\n",
    "    for next_node in node.links:\n",
    "        if not next_node.traversed:\n",
    "            dfs(next_node)\n",
    "\n",
    "\n",
    "for node in graph:\n",
    "    node.traversed = False"
   ]
  },
  {
   "cell_type": "markdown",
   "metadata": {},
   "source": [
    "# 幅優先探索\n"
   ]
  },
  {
   "cell_type": "code",
   "execution_count": null,
   "metadata": {},
   "outputs": [],
   "source": [
    "from collections import deque\n",
    "\n",
    "\n",
    "def bfs(node):\n",
    "    q = deque()\n",
    "    q.append(node)\n",
    "    node.traversed = True\n",
    "    while len(q) > 0:\n",
    "        node = q.popleft()\n",
    "        print(node, end=\", \")\n",
    "        for next_node in node.links:\n",
    "            if not next_node.traversed:\n",
    "                next_node.traversed = True\n",
    "                q.append(next_node)\n",
    "\n",
    "\n",
    "for node in graph:\n",
    "    node.traversed = False"
   ]
  }
 ],
 "metadata": {
  "language_info": {
   "name": "python"
  }
 },
 "nbformat": 4,
 "nbformat_minor": 2
}
