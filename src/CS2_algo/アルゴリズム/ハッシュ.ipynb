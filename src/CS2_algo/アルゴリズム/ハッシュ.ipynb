{
 "cells": [
  {
   "cell_type": "markdown",
   "metadata": {},
   "source": [
    "ワークスペース情報を収集しています\n",
    "\n",
    "# ハッシュテーブル (Hash Table)\n",
    "\n",
    "## 基本概念\n",
    "\n",
    "ハッシュテーブルは、キーと値のペアを格納するデータ構造で、高速な検索を実現します。\n",
    "\n",
    "## 仕組み\n",
    "\n",
    "1. **ハッシュ関数**\n"
   ]
  },
  {
   "cell_type": "code",
   "execution_count": null,
   "metadata": {},
   "outputs": [],
   "source": [
    "def hash_function(key):\n",
    "    \"\"\"単純なハッシュ関数の例\"\"\"\n",
    "    return sum(ord(c) for c in str(key)) % table_size"
   ]
  },
  {
   "cell_type": "markdown",
   "metadata": {},
   "source": [
    "2. **データ構造**\n"
   ]
  },
  {
   "cell_type": "code",
   "execution_count": null,
   "metadata": {},
   "outputs": [],
   "source": [
    "class HashTable:\n",
    "    def __init__(self, size):\n",
    "        self.size = size\n",
    "        self.table = [[] for _ in range(size)]  # チェイン法による衝突解決"
   ]
  },
  {
   "cell_type": "markdown",
   "metadata": {},
   "source": [
    "## 主な特徴\n",
    "\n",
    "1. **計算量**\n",
    "\n",
    "   - 検索: O(1) [平均]\n",
    "   - 挿入: O(1) [平均]\n",
    "   - 削除: O(1) [平均]\n",
    "\n",
    "2. **衝突解決方法**\n",
    "\n",
    "   - チェイン法（リスト化）\n",
    "   - オープンアドレス法（再ハッシュ）\n",
    "\n",
    "3. **利点**\n",
    "\n",
    "   - 高速な検索\n",
    "   - キーと値の関連付け\n",
    "   - 動的なデータ構造\n",
    "\n",
    "4. **欠点**\n",
    "   - メモリ使用量が大きい\n",
    "   - 衝突の可能性\n",
    "   - ハッシュ関数の設計が重要\n",
    "\n",
    "## 用途例\n",
    "\n",
    "- データベースのインデックス\n",
    "- キャッシュシステム\n",
    "- シンボルテーブル\n",
    "- 重複チェック\n",
    "\n",
    "tools.ipynb\n",
    "\n",
    "では、ハッシュテーブルを使用した効率的なデータ検索の実装例を確認できます。\n"
   ]
  }
 ],
 "metadata": {
  "language_info": {
   "name": "python"
  }
 },
 "nbformat": 4,
 "nbformat_minor": 2
}
