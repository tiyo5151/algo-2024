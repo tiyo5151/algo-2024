{
 "cells": [
  {
   "cell_type": "markdown",
   "metadata": {},
   "source": [
    "# ソート\n",
    "\n",
    "- 昇順：小ー＞大\n",
    "- 降順：大ー＞小\n",
    "\n",
    "## python のソートの順位\n",
    "\n",
    "- そもそも型が違うとエラーになる\n",
    "- アルファベット順\n",
    "- 大文字 > 小文字\n",
    "- 数字、記号 > アルファベット\n",
    "\n",
    "**python のソートの計算量は nlogn**\n"
   ]
  },
  {
   "cell_type": "markdown",
   "metadata": {},
   "source": [
    "## python の任意のキーでソート\n"
   ]
  },
  {
   "cell_type": "code",
   "execution_count": 2,
   "metadata": {},
   "outputs": [
    {
     "data": {
      "text/plain": [
       "[1, 13, 21344, 34634, 3134, 6345, 469]"
      ]
     },
     "execution_count": 2,
     "metadata": {},
     "output_type": "execute_result"
    }
   ],
   "source": [
    "def func(x):\n",
    "    return x % 10\n",
    "\n",
    "\n",
    "# hash\n",
    "\n",
    "sorted([1, 6345, 21344, 34634, 3134, 469, 13], key=func)"
   ]
  },
  {
   "cell_type": "code",
   "execution_count": 3,
   "metadata": {},
   "outputs": [
    {
     "data": {
      "text/plain": [
       "['C', 'java', 'Python', 'Ruby']"
      ]
     },
     "execution_count": 3,
     "metadata": {},
     "output_type": "execute_result"
    }
   ],
   "source": [
    "def func2(x):\n",
    "    return x.lower()\n",
    "\n",
    "\n",
    "sorted([\"Python\", \"C\", \"java\", \"Ruby\"], key=func2)"
   ]
  },
  {
   "cell_type": "markdown",
   "metadata": {},
   "source": [
    "# 各ソートの計算量\n",
    "\n",
    "| ソートアルゴリズム | 平均計算量          | 最悪計算量 |\n",
    "| :----------------- | :------------------ | :--------- |\n",
    "| クイックソート     | O(n log n)          | O(n²)      |\n",
    "| マージソート       | O(n log n)          | O(n log n) |\n",
    "| ヒープソート       | O(n log n)          | O(n log n) |\n",
    "| バブルソート       | O(n²)               | O(n²)      |\n",
    "| 選択ソート         | O(n²)               | O(n²)      |\n",
    "| 挿入ソート         | O(n²)               | O(n²)      |\n",
    "| シェルソート       | O(n log n) 〜 O(n²) | O(n²)      |\n"
   ]
  },
  {
   "cell_type": "markdown",
   "metadata": {},
   "source": [
    "ワークスペース情報を収集しています\n",
    "\n",
    "# 選択ソート (Selection Sort)\n",
    "\n",
    "## アルゴリズムの概要\n",
    "\n",
    "選択ソートは, 配列の中から最小値を探して先頭から順に並べていく単純なソートアルゴリズムです。\n",
    "\n",
    "## 具体的な動作例\n",
    "\n",
    "配列 `[5, 3, 4, 1, 2]` をソートする場合：\n",
    "\n",
    "1. 最初のステップ:\n",
    "\n",
    "   - 未ソート部分[5, 3, 4, 1, 2]から最小値「1」を探す\n",
    "   - 「1」を先頭要素と交換\n",
    "   - 結果: [1, 3, 4, 5, 2]\n",
    "\n",
    "2. 2 番目のステップ:\n",
    "\n",
    "   - 未ソート部分[3, 4, 5, 2]から最小値「2」を探す\n",
    "   - 「2」を 2 番目の要素と交換\n",
    "   - 結果: [1, 2, 4, 5, 3]\n",
    "\n",
    "3. 以降同様に繰り返し\n"
   ]
  },
  {
   "cell_type": "code",
   "execution_count": 4,
   "metadata": {},
   "outputs": [],
   "source": [
    "def selection_sort(lst):\n",
    "    length = len(lst)\n",
    "    for i in range(length):\n",
    "        minpos = i\n",
    "        for j in range(i + 1, length):\n",
    "            if lst[j] < lst[minpos]:\n",
    "                minpos = j\n",
    "        if i != minpos:\n",
    "            tmp = lst[i]\n",
    "            lst[i] = lst[minpos]\n",
    "            lst[minpos] = tmp"
   ]
  },
  {
   "cell_type": "markdown",
   "metadata": {},
   "source": [
    "# クイックソート (Quick Sort)\n",
    "\n",
    "## アルゴリズムの概要\n",
    "\n",
    "campe.ipynb\n",
    "\n",
    "に記載されているように、クイックソートはピボット（軸）を基準に配列を分割して再帰的にソートを行うアルゴリズムです。\n",
    "\n",
    "## 特徴\n",
    "\n",
    "1. 計算量\n",
    "\n",
    "   - 平均計算量: O(n log n)\n",
    "   - 最悪計算量: O(n²)\n",
    "\n",
    "2. アルゴリズムの流れ\n",
    "   - ピボットを選択（通常は最初の要素）\n",
    "   - ピボットより小さい要素を左側、大きい要素を右側に分割\n",
    "   - 分割された部分に対して再帰的に同じ処理を実行\n",
    "\n",
    "## 実装例\n"
   ]
  },
  {
   "cell_type": "code",
   "execution_count": null,
   "metadata": {},
   "outputs": [],
   "source": [
    "def quick_sort(lst):\n",
    "    if len(lst) <= 1:\n",
    "        return lst\n",
    "    pivot = lst[0]\n",
    "    left = [x for x in lst[1:] if x < pivot]\n",
    "    middle = [x for x in lst[1:] if x == pivot]\n",
    "    right = [x for x in lst[1:] if x > pivot]\n",
    "\n",
    "    return quick_sort(left) + [pivot] + quick_sort(right)"
   ]
  },
  {
   "cell_type": "markdown",
   "metadata": {},
   "source": [
    "# マージソート (Merge Sort)\n",
    "\n",
    "## アルゴリズムの概要\n",
    "\n",
    "マージソートは以下の特徴を持つ分割統治アルゴリズムです。\n",
    "\n",
    "## 動作原理\n",
    "\n",
    "1. 分割ステップ:\n",
    "\n",
    "   - リストを半分に分割\n",
    "   - 長さが 1 になるまで再帰的に分割を続ける\n",
    "\n",
    "2. マージステップ:\n",
    "   - 分割したリストを徐々にソートしながら統合\n",
    "   - 2 つのソート済みリストを 1 つのソート済みリストに統合\n",
    "\n",
    "## 実装例\n"
   ]
  },
  {
   "cell_type": "code",
   "execution_count": 5,
   "metadata": {},
   "outputs": [],
   "source": [
    "def merge_sort(arr):\n",
    "    if len(arr) <= 1:\n",
    "        return arr\n",
    "\n",
    "    mid = len(arr) // 2\n",
    "    left = merge_sort(arr[:mid])\n",
    "    right = merge_sort(arr[mid:])\n",
    "\n",
    "    return merge(left, right)\n",
    "\n",
    "\n",
    "def merge(left, right):\n",
    "    result = []\n",
    "    i = j = 0\n",
    "\n",
    "    while i < len(left) and j < len(right):\n",
    "        if left[i] <= right[j]:\n",
    "            result.append(left[i])\n",
    "            i += 1\n",
    "        else:\n",
    "            result.append(right[j])\n",
    "            j += 1\n",
    "\n",
    "    result.extend(left[i:])\n",
    "    result.extend(right[j:])\n",
    "    return result"
   ]
  }
 ],
 "metadata": {
  "kernelspec": {
   "display_name": "algovenv",
   "language": "python",
   "name": "python3"
  },
  "language_info": {
   "codemirror_mode": {
    "name": "ipython",
    "version": 3
   },
   "file_extension": ".py",
   "mimetype": "text/x-python",
   "name": "python",
   "nbconvert_exporter": "python",
   "pygments_lexer": "ipython3",
   "version": "3.10.12"
  }
 },
 "nbformat": 4,
 "nbformat_minor": 2
}
