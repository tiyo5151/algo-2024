{
 "cells": [
  {
   "cell_type": "markdown",
   "metadata": {},
   "source": [
    "# スタック (Stack)\n",
    "\n",
    "![スタック](../../../media/stack.gif 'スタック')\n",
    "\n",
    "## 設計ステップ\n",
    "\n",
    "1. LIFO (Last-In-First-Out) 構造の実装\n",
    "2. 基本操作の実装: push, pop\n",
    "3. スタックの状態管理\n",
    "\n",
    "## 実装例\n"
   ]
  },
  {
   "cell_type": "code",
   "execution_count": null,
   "metadata": {},
   "outputs": [],
   "source": [
    "class Stack:\n",
    "    def __init__(self, size):\n",
    "        self.size = size\n",
    "        self.stack = [None] * size\n",
    "        self.pointer = 0\n",
    "\n",
    "    def push(self, data):\n",
    "        if self.pointer < self.size:\n",
    "            self.stack[self.pointer] = data\n",
    "            self.pointer += 1\n",
    "            return True\n",
    "        return False  # スタックが満杯\n",
    "\n",
    "    def pop(self):\n",
    "        if self.pointer > 0:\n",
    "            self.pointer -= 1\n",
    "            return self.stack[self.pointer]\n",
    "        return None  # スタックが空"
   ]
  },
  {
   "cell_type": "markdown",
   "metadata": {},
   "source": [
    "## 主な特徴\n",
    "\n",
    "- LIFO 構造: 後入れ先出し\n",
    "- 基本操作:\n",
    "  - push: データの追加\n",
    "  - pop: データの取り出し\n",
    "- 用途:\n",
    "  - 関数呼び出しの管理\n",
    "  - 式の評価\n",
    "  - アンドゥ機能の実装\n",
    "\n",
    "## 計算量\n",
    "\n",
    "- push: O(1)\n",
    "- pop: O(1)\n",
    "\n",
    "[`src/a/chapter3.ipynb`](src/a/chapter3.ipynb)に基づく実装です。\n"
   ]
  }
 ],
 "metadata": {
  "language_info": {
   "name": "python"
  }
 },
 "nbformat": 4,
 "nbformat_minor": 2
}
