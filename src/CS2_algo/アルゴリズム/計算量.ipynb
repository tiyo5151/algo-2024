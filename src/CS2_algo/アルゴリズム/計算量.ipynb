{
 "cells": [
  {
   "cell_type": "markdown",
   "metadata": {},
   "source": [
    "# 計算量\n",
    "\n",
    "アルゴリズムが問題を解くのにどの程度の計算ステップ(計算時間)を要するかを表す指標\n",
    "\n",
    "## ポイント\n",
    "\n",
    "- 計算時間が複数の項の和になる場合は、その中で最も早く増加する項だけをのこす。ex. T(n) = $n^3 + 2n^2 + n$ ->O($n^3$)\n",
    "- 計算時間が定数倍されても、オーダーは変わらない\n",
    "  - 各項の係数は無視\n",
    "  - ex. T(n) = $100n^2$ -> O($n^2$)\n",
    "- 増え方が緩やかなものをアルゴリズムとしては早いとみなす\n",
    "  <br>\n",
    "  早い順：$C^n$ > $n^C$ > $nlogn$ > $n$ > $logn$ > 定数\n"
   ]
  },
  {
   "cell_type": "markdown",
   "metadata": {},
   "source": [
    "# 計算量の見積り方\n"
   ]
  },
  {
   "cell_type": "code",
   "execution_count": null,
   "metadata": {},
   "outputs": [],
   "source": [
    "def func6(n):\n",
    "    s = 0\n",
    "    for i in range(n):\n",
    "        for j in range(n):\n",
    "            for k in range(n):\n",
    "                s += 1  # n^3\n",
    "    t = 0\n",
    "    for i in range(2**n):\n",
    "        t += 1  # 2^n\n",
    "    return s"
   ]
  },
  {
   "cell_type": "markdown",
   "metadata": {},
   "source": [
    "上記のコードの計算量\n",
    "$T(n) = n^3 + 2^n$\n",
    "<br>\n",
    "これをオーダー記法で示すと\n",
    "$O(2^n)$\n"
   ]
  },
  {
   "cell_type": "code",
   "execution_count": 1,
   "metadata": {},
   "outputs": [],
   "source": [
    "def func1(n):\n",
    "    s = 0\n",
    "    for i in range(n):\n",
    "        s += 1\n",
    "    return s\n",
    "\n",
    "\n",
    "## O(n)\n",
    "\n",
    "\n",
    "def func2(n):\n",
    "    s = 0\n",
    "    for i in range(n):\n",
    "        for j in range(n):\n",
    "            s += 1\n",
    "    return s\n",
    "\n",
    "\n",
    "## O(n^2)\n",
    "\n",
    "\n",
    "def func7():\n",
    "    for i in range(n):\n",
    "        for j in range(n):\n",
    "            func1(n)  # n^3\n",
    "    for k in range(n):\n",
    "        func2(n)  # n^2"
   ]
  },
  {
   "cell_type": "markdown",
   "metadata": {},
   "source": [
    "func7 の計算量\n",
    "$T(n) = n^3 + n^2$\n",
    "<br>\n",
    "これをオーダー記法で表すと$O(n^3)$\n",
    "<br>\n",
    "**他の関数を繰り返し呼び出す時は、計算量の積となる**\n"
   ]
  }
 ],
 "metadata": {
  "kernelspec": {
   "display_name": "algovenv",
   "language": "python",
   "name": "python3"
  },
  "language_info": {
   "codemirror_mode": {
    "name": "ipython",
    "version": 3
   },
   "file_extension": ".py",
   "mimetype": "text/x-python",
   "name": "python",
   "nbconvert_exporter": "python",
   "pygments_lexer": "ipython3",
   "version": "3.10.12"
  }
 },
 "nbformat": 4,
 "nbformat_minor": 2
}
