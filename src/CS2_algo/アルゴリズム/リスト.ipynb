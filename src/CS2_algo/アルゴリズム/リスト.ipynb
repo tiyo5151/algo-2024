{
 "cells": [
  {
   "cell_type": "markdown",
   "metadata": {},
   "source": [
    "# メモリアドレス\n",
    "\n",
    "メモリには番地(アドレス)がついている\n",
    "\n",
    "# 配列\n",
    "\n",
    "・メモリ上に、同じサイズのデータを順番に並べたデータ構造のことを 「配列」と呼びます\n",
    "\n",
    "- i-番目と i+1 番目の要素は、メモリ上で隣り合って存在しています\n",
    "- 配列では、任意の場所の要素に、瞬時にアクセスすることができます\n",
    "  - i-番目の要素のアドレス = 先頭の要素のアドレス + 要素の大きさ \\*i で簡単に求められます\n",
    "  - メモリ上のデータは、アドレスがわかれば瞬時に読み書きできます\n",
    "\n",
    "## 配列を用いたリストへの要素の追加\n",
    "\n",
    "• 配列を用いてリストを作った場合、要素の追加や削除の際には、構造の変更が必要になります\n",
    "• リストの途中に新たに要素を追加する場合、次の処理が必要です\n",
    "\n",
    "1. 追加する場所より後のすべての区画を 1 つ後ろに移動して、1 つ区画を空ける\n",
    "2. 空いた区画に追加したい要素を入れる\n",
    "\n",
    "## 配列を用いたリストからの要素の削除\n",
    "\n",
    "● 配列を用いてリストを作った場合、リストの途中の要素を削除する場合も同様に、次の処理が必要です\n",
    "\n",
    "1. 要素を 1 つ削除する\n",
    "2. 削除した場所より後のすべての区画を 1 つ前に移動して、開いた区画を埋める\n",
    "\n",
    "# リンクリスト(Linked List)\n",
    "\n",
    "「リンクリスト」は、要素を格納するノードが、次の要素を格納するノードへのリンク(メモリアドレスなど)をもたせることで、リストを表現したデータ構造です\n",
    "■ 「連結リスト」とも呼びます\n",
    "■ 配列のように、要素をメモリ上に連続的に配置するのではありません\n",
    "\n",
    "## 実装例\n"
   ]
  },
  {
   "cell_type": "code",
   "execution_count": null,
   "metadata": {},
   "outputs": [],
   "source": [
    "class Node:\n",
    "    def __init__(self, value):\n",
    "        self.value = value\n",
    "        self.next = None\n",
    "\n",
    "    def _str_(self):\n",
    "        return str(self.value)\n",
    "\n",
    "\n",
    "node1 = Node(10)\n",
    "node2 = Node(20)\n",
    "node1.next = node2\n",
    "node3 = Node(30)\n",
    "node2.next = node3\n",
    "node4 = Node(40)\n",
    "node3.next = node4"
   ]
  },
  {
   "cell_type": "code",
   "execution_count": null,
   "metadata": {},
   "outputs": [],
   "source": [
    "# リストの表示\n",
    "def print_list(top):\n",
    "    print(\"<\", end=\"\")\n",
    "    node = top\n",
    "    while node is not None:\n",
    "        print(node, end=\", \")\n",
    "        node = node.next\n",
    "    print(\">\")\n",
    "\n",
    "\n",
    "print_list(node1)"
   ]
  },
  {
   "cell_type": "code",
   "execution_count": null,
   "metadata": {},
   "outputs": [],
   "source": [
    "# リストの任意の場所参照\n",
    "def get(top, n):\n",
    "  node = top\n",
    "  for i in range(n):\n",
    "    node node.next\n",
    "  return node\n",
    "print(get(node1, 3))"
   ]
  },
  {
   "cell_type": "code",
   "execution_count": null,
   "metadata": {},
   "outputs": [],
   "source": [
    "# リストの任意の場所に挿入\n",
    "def insert(prev, x):\n",
    "    new_node = Node(x)\n",
    "    new_node.next = prev.next\n",
    "    prev.next = new_node\n",
    "    return new_node\n",
    "\n",
    "\n",
    "print_list(node1)\n",
    "insert(get(node1, 2), 50)\n",
    "print_list(node1)"
   ]
  },
  {
   "cell_type": "code",
   "execution_count": null,
   "metadata": {},
   "outputs": [],
   "source": [
    "# リストの任意の場所の削除\n",
    "def op(prev):\n",
    "    result = prev.next\n",
    "    prev.next = result.next\n",
    "    result.next = None\n",
    "    return result\n",
    "\n",
    "\n",
    "print_list(node1)\n",
    "op(get(node1, 2))\n",
    "print_list(node1)"
   ]
  },
  {
   "cell_type": "code",
   "execution_count": null,
   "metadata": {},
   "outputs": [],
   "source": [
    "\"\"\"\n",
    "先頭のノード topと値×を引数に取る\n",
    "top からはじまるリンクリストの中に、値×が出てきた場合に、そのノードを返す\n",
    "要素がない場合は None を返す\n",
    "\"\"\"\n",
    "\n",
    "\n",
    "def index(top, x):\n",
    "    node = top\n",
    "    while node is not None:\n",
    "        if node.value == x:\n",
    "            return node\n",
    "        node = node.next\n",
    "    return None"
   ]
  },
  {
   "cell_type": "markdown",
   "metadata": {},
   "source": [
    "# リストの計算量\n",
    "\n",
    "| 操作                                                      | 配列によるリスト | リンクリスト |\n",
    "| --------------------------------------------------------- | ---------------- | ------------ |\n",
    "| 任意の要素へのアクセス<br>• Python では : lst[i]          | O(1)             | O(n)         |\n",
    "| 末尾への追加・削除<br>• Python では : append              | O(1)             | O(1)         |\n",
    "| 指定した場所への追加・削除<br>• Python では : insert, pop | O(n)             | O(1)         |\n",
    "| 要素の出現場所の検索<br>• Python では : index             | O(n)             | O(n)         |\n"
   ]
  }
 ],
 "metadata": {
  "kernelspec": {
   "display_name": "algovenv",
   "language": "python",
   "name": "python3"
  },
  "language_info": {
   "name": "python",
   "version": "3.10.12"
  }
 },
 "nbformat": 4,
 "nbformat_minor": 2
}
