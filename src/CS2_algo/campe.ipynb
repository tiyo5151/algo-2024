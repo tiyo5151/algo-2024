{
 "cells": [
  {
   "cell_type": "markdown",
   "metadata": {},
   "source": [
    "# 環境構築\n",
    "\n",
    "## powershell で venv 作成\n",
    "\n",
    "```\n",
    "cd .\\...\\YOUR_FOLDER\n",
    "python3 -m venv myvenv\n",
    "```\n",
    "\n",
    "## 仮想環境有効化\n",
    "\n",
    "```\n",
    "cd .\\...\\YOUR_FOLDER\n",
    "myvenv\\Scripts\\avtivate\n",
    "```\n",
    "\n",
    "## 仮想環境無効化\n",
    "\n",
    "```\n",
    "deactivate\n",
    "```\n"
   ]
  },
  {
   "cell_type": "markdown",
   "metadata": {},
   "source": [
    "# 単位変換\n",
    "\n",
    "- 1GB = 1 × 10^9 B\n",
    "- 1B(byte) = 8 bit\n"
   ]
  },
  {
   "cell_type": "markdown",
   "metadata": {},
   "source": [
    "# 情報理論における情報量の定義\n",
    "\n",
    "## 確率ｐで発生する事象の情報量 I\n",
    "\n",
    "## I = -log₂p [bit]\n",
    "\n",
    "ビットと情報量には加法性が成立\n",
    "\n",
    "## 情報エントロピー H\n",
    "\n",
    "## H = E[I] = -∑ⁿᵢ₌₁ pᵢlog₂pᵢ [bit]\n",
    "\n",
    "期待値の計算と似ている\n",
    "\n",
    "## 冗長度（最大エントロピーと実際エントロピーの相対的な差を表す）\n",
    "\n",
    "## R = 1 - H/H_max\n",
    "\n",
    "１に近いほど冗長であり、０に近いほど無駄がない\n",
    "\n",
    "## パリティビット\n",
    "\n",
    "誤り検出符号、オリジナルに含まれる１の個数が偶数なら０、奇数なら１と表示される\n"
   ]
  },
  {
   "cell_type": "markdown",
   "metadata": {},
   "source": [
    "# ユークリッドの互除法\n"
   ]
  },
  {
   "cell_type": "code",
   "execution_count": 1,
   "metadata": {},
   "outputs": [],
   "source": [
    "def gcd(a, b):\n",
    "    if a < b:\n",
    "        tmp = a\n",
    "        a = b\n",
    "        b = tmp\n",
    "    while True:\n",
    "        r = a % b\n",
    "        if r == 0:\n",
    "            return b\n",
    "        a = b\n",
    "        b = r"
   ]
  },
  {
   "cell_type": "markdown",
   "metadata": {},
   "source": [
    "# 線形探索\n"
   ]
  },
  {
   "cell_type": "code",
   "execution_count": 13,
   "metadata": {},
   "outputs": [],
   "source": [
    "def linear_search(lst, x):\n",
    "    for item in lst:\n",
    "        if item == x:\n",
    "            return True\n",
    "    return False"
   ]
  },
  {
   "cell_type": "code",
   "execution_count": 4,
   "metadata": {},
   "outputs": [
    {
     "data": {
      "text/plain": [
       "True"
      ]
     },
     "execution_count": 4,
     "metadata": {},
     "output_type": "execute_result"
    }
   ],
   "source": [
    "linear_search([1, 5, 8, 4, 6], 4)  # True"
   ]
  },
  {
   "cell_type": "markdown",
   "metadata": {},
   "source": [
    "昇順：小さい方から大きい方<br>\n",
    "降順：大きい方から小さい方\n"
   ]
  },
  {
   "cell_type": "markdown",
   "metadata": {},
   "source": [
    "# 二分探索\n"
   ]
  },
  {
   "cell_type": "code",
   "execution_count": 14,
   "metadata": {},
   "outputs": [],
   "source": [
    "def binary_search(lst, x):\n",
    "    left = 0\n",
    "    right = len(lst)\n",
    "    while left < right:\n",
    "        mid = (left + right) // 2\n",
    "        # print(\"L:{},M:{},R:{}\".format(left, mid, right))\n",
    "        if lst[mid] == x:\n",
    "            return True\n",
    "        elif lst[mid] > x:\n",
    "            right = mid\n",
    "        else:\n",
    "            left = mid + 1"
   ]
  },
  {
   "cell_type": "code",
   "execution_count": 15,
   "metadata": {},
   "outputs": [
    {
     "data": {
      "text/plain": [
       "True"
      ]
     },
     "execution_count": 15,
     "metadata": {},
     "output_type": "execute_result"
    }
   ],
   "source": [
    "binary_search([9, 22, 31, 56, 69, 88, 95, 98], 88)"
   ]
  },
  {
   "cell_type": "markdown",
   "metadata": {},
   "source": [
    "# 線形探索 vs 二分探索\n"
   ]
  },
  {
   "cell_type": "code",
   "execution_count": 3,
   "metadata": {},
   "outputs": [],
   "source": [
    "import random"
   ]
  },
  {
   "cell_type": "code",
   "execution_count": 11,
   "metadata": {},
   "outputs": [],
   "source": [
    "target = sorted(random.sample(range(100000), k=10))\n",
    "target2 = random.sample(range(100000), k=1000)"
   ]
  },
  {
   "cell_type": "code",
   "execution_count": 7,
   "metadata": {},
   "outputs": [
    {
     "name": "stdout",
     "output_type": "stream",
     "text": [
      "CPU times: user 2.55 ms, sys: 0 ns, total: 2.55 ms\n",
      "Wall time: 2.56 ms\n"
     ]
    }
   ],
   "source": [
    "%%time\n",
    "\n",
    "for i in range(10000):\n",
    "    linear_search(target, 10000)"
   ]
  },
  {
   "cell_type": "code",
   "execution_count": 10,
   "metadata": {},
   "outputs": [
    {
     "name": "stdout",
     "output_type": "stream",
     "text": [
      "CPU times: user 6.32 ms, sys: 0 ns, total: 6.32 ms\n",
      "Wall time: 6.1 ms\n"
     ]
    }
   ],
   "source": [
    "%%time\n",
    "\n",
    "for i in range(10000):\n",
    "    binary_search(target, 10000)"
   ]
  },
  {
   "cell_type": "code",
   "execution_count": 16,
   "metadata": {},
   "outputs": [
    {
     "name": "stdout",
     "output_type": "stream",
     "text": [
      "CPU times: user 183 ms, sys: 0 ns, total: 183 ms\n",
      "Wall time: 182 ms\n"
     ]
    }
   ],
   "source": [
    "%%time\n",
    "\n",
    "for i in range(10000):\n",
    "    linear_search(target2, 10000)"
   ]
  },
  {
   "cell_type": "code",
   "execution_count": 17,
   "metadata": {},
   "outputs": [
    {
     "name": "stdout",
     "output_type": "stream",
     "text": [
      "CPU times: user 10.6 ms, sys: 0 ns, total: 10.6 ms\n",
      "Wall time: 10.9 ms\n"
     ]
    }
   ],
   "source": [
    "%%time\n",
    "\n",
    "for i in range(10000):\n",
    "    binary_search(target2, 10000)"
   ]
  },
  {
   "cell_type": "markdown",
   "metadata": {},
   "source": [
    "# 再帰呼び出し\n"
   ]
  },
  {
   "cell_type": "markdown",
   "metadata": {},
   "source": [
    "## 階乗の計算\n"
   ]
  },
  {
   "cell_type": "code",
   "execution_count": 23,
   "metadata": {},
   "outputs": [],
   "source": [
    "def fact(n):\n",
    "    result = 1\n",
    "    for i in range(1, n + 1):\n",
    "        result *= i\n",
    "    return result\n",
    "\n",
    "\n",
    "def fact_recursive(n):\n",
    "    if n == 0:\n",
    "        return 1\n",
    "    return n * fact_recursive(n - 1)"
   ]
  },
  {
   "cell_type": "code",
   "execution_count": null,
   "metadata": {},
   "outputs": [
    {
     "data": {
      "text/plain": [
       "3628800"
      ]
     },
     "execution_count": 24,
     "metadata": {},
     "output_type": "execute_result"
    }
   ],
   "source": [
    "fact(10)"
   ]
  },
  {
   "cell_type": "code",
   "execution_count": 25,
   "metadata": {},
   "outputs": [
    {
     "data": {
      "text/plain": [
       "3628800"
      ]
     },
     "execution_count": 25,
     "metadata": {},
     "output_type": "execute_result"
    }
   ],
   "source": [
    "fact_recursive(10)"
   ]
  },
  {
   "cell_type": "markdown",
   "metadata": {},
   "source": [
    "## 総和\n"
   ]
  },
  {
   "cell_type": "code",
   "execution_count": 26,
   "metadata": {},
   "outputs": [],
   "source": [
    "def sigma(n):\n",
    "    if n <= 1:\n",
    "        return 1\n",
    "    return n + sigma(n - 1)"
   ]
  },
  {
   "cell_type": "code",
   "execution_count": 27,
   "metadata": {},
   "outputs": [
    {
     "data": {
      "text/plain": [
       "5050"
      ]
     },
     "execution_count": 27,
     "metadata": {},
     "output_type": "execute_result"
    }
   ],
   "source": [
    "sigma(100)"
   ]
  },
  {
   "cell_type": "markdown",
   "metadata": {},
   "source": [
    "## 二分探索\n"
   ]
  },
  {
   "cell_type": "code",
   "execution_count": null,
   "metadata": {},
   "outputs": [],
   "source": [
    "def binary_search_recursive(lst, x):\n",
    "    if len(lst) == 0:\n",
    "        return False\n",
    "    mid = len(lst) // 2\n",
    "    if lst[mid] == x:\n",
    "        return True\n",
    "    elif lst[mid] > x:\n",
    "        return binary_search_recursive(lst[:mid], x)\n",
    "    else:\n",
    "        return binary_search_recursive(lst[mid + 1 :], x)"
   ]
  },
  {
   "cell_type": "markdown",
   "metadata": {},
   "source": [
    "## ユークリッドの互除法\n"
   ]
  },
  {
   "cell_type": "code",
   "execution_count": 28,
   "metadata": {},
   "outputs": [],
   "source": [
    "def gcd(a, b):\n",
    "    i, j = max(a, b), min(a, b)\n",
    "    r = i % j\n",
    "    if r == 0:\n",
    "        return j\n",
    "    return gcd(j, r)"
   ]
  },
  {
   "cell_type": "markdown",
   "metadata": {},
   "source": [
    "# 計算量\n"
   ]
  },
  {
   "cell_type": "markdown",
   "metadata": {},
   "source": [
    "## fibonatti\n"
   ]
  },
  {
   "cell_type": "code",
   "execution_count": 29,
   "metadata": {},
   "outputs": [],
   "source": [
    "def fib(n):\n",
    "    if n <= 0:\n",
    "        return 0\n",
    "    if n == 1:\n",
    "        return 1\n",
    "    return fib(n - 1) + fib(n - 2)"
   ]
  },
  {
   "cell_type": "code",
   "execution_count": 30,
   "metadata": {},
   "outputs": [
    {
     "name": "stdout",
     "output_type": "stream",
     "text": [
      "CPU times: user 16 μs, sys: 0 ns, total: 16 μs\n",
      "Wall time: 17.4 μs\n"
     ]
    },
    {
     "data": {
      "text/plain": [
       "55"
      ]
     },
     "execution_count": 30,
     "metadata": {},
     "output_type": "execute_result"
    }
   ],
   "source": [
    "%%time\n",
    "fib(10)"
   ]
  },
  {
   "cell_type": "code",
   "execution_count": 31,
   "metadata": {},
   "outputs": [
    {
     "name": "stdout",
     "output_type": "stream",
     "text": [
      "CPU times: user 1.54 ms, sys: 3 μs, total: 1.54 ms\n",
      "Wall time: 1.54 ms\n"
     ]
    },
    {
     "data": {
      "text/plain": [
       "6765"
      ]
     },
     "execution_count": 31,
     "metadata": {},
     "output_type": "execute_result"
    }
   ],
   "source": [
    "%%time\n",
    "fib(20)"
   ]
  },
  {
   "cell_type": "code",
   "execution_count": 32,
   "metadata": {},
   "outputs": [
    {
     "name": "stdout",
     "output_type": "stream",
     "text": [
      "CPU times: user 206 ms, sys: 13 μs, total: 206 ms\n",
      "Wall time: 205 ms\n"
     ]
    },
    {
     "data": {
      "text/plain": [
       "832040"
      ]
     },
     "execution_count": 32,
     "metadata": {},
     "output_type": "execute_result"
    }
   ],
   "source": [
    "%%time\n",
    "fib(30)"
   ]
  },
  {
   "cell_type": "code",
   "execution_count": 33,
   "metadata": {},
   "outputs": [
    {
     "name": "stdout",
     "output_type": "stream",
     "text": [
      "CPU times: user 23.7 s, sys: 0 ns, total: 23.7 s\n",
      "Wall time: 23.7 s\n"
     ]
    },
    {
     "data": {
      "text/plain": [
       "102334155"
      ]
     },
     "execution_count": 33,
     "metadata": {},
     "output_type": "execute_result"
    }
   ],
   "source": [
    "%%time\n",
    "fib(40)"
   ]
  },
  {
   "cell_type": "markdown",
   "metadata": {},
   "source": [
    "計算量:O(((1+√5)/2)n)\n"
   ]
  },
  {
   "cell_type": "markdown",
   "metadata": {},
   "source": [
    "効率的な実装\n"
   ]
  },
  {
   "cell_type": "code",
   "execution_count": 35,
   "metadata": {},
   "outputs": [],
   "source": [
    "def fib2(n):\n",
    "    lst = [0] * (n + 1)\n",
    "    lst[0] = 0\n",
    "    lst[1] = 1\n",
    "    for i in range(2, n + 1):\n",
    "        lst[i] = lst[i - 1] + lst[i - 2]\n",
    "    return lst[n]"
   ]
  },
  {
   "cell_type": "code",
   "execution_count": 36,
   "metadata": {},
   "outputs": [
    {
     "name": "stdout",
     "output_type": "stream",
     "text": [
      "CPU times: user 6 μs, sys: 0 ns, total: 6 μs\n",
      "Wall time: 7.63 μs\n"
     ]
    },
    {
     "data": {
      "text/plain": [
       "55"
      ]
     },
     "execution_count": 36,
     "metadata": {},
     "output_type": "execute_result"
    }
   ],
   "source": [
    "%%time\n",
    "fib2(10)"
   ]
  },
  {
   "cell_type": "code",
   "execution_count": 37,
   "metadata": {},
   "outputs": [
    {
     "name": "stdout",
     "output_type": "stream",
     "text": [
      "CPU times: user 11 μs, sys: 0 ns, total: 11 μs\n",
      "Wall time: 13.6 μs\n"
     ]
    },
    {
     "data": {
      "text/plain": [
       "6765"
      ]
     },
     "execution_count": 37,
     "metadata": {},
     "output_type": "execute_result"
    }
   ],
   "source": [
    "%%time\n",
    "fib2(20)"
   ]
  },
  {
   "cell_type": "code",
   "execution_count": 38,
   "metadata": {},
   "outputs": [
    {
     "name": "stdout",
     "output_type": "stream",
     "text": [
      "CPU times: user 8 μs, sys: 0 ns, total: 8 μs\n",
      "Wall time: 9.78 μs\n"
     ]
    },
    {
     "data": {
      "text/plain": [
       "832040"
      ]
     },
     "execution_count": 38,
     "metadata": {},
     "output_type": "execute_result"
    }
   ],
   "source": [
    "%%time\n",
    "fib2(30)"
   ]
  },
  {
   "cell_type": "code",
   "execution_count": 40,
   "metadata": {},
   "outputs": [
    {
     "name": "stdout",
     "output_type": "stream",
     "text": [
      "CPU times: user 9 μs, sys: 0 ns, total: 9 μs\n",
      "Wall time: 10.7 μs\n"
     ]
    },
    {
     "data": {
      "text/plain": [
       "102334155"
      ]
     },
     "execution_count": 40,
     "metadata": {},
     "output_type": "execute_result"
    }
   ],
   "source": [
    "%%time\n",
    "fib2(40)"
   ]
  },
  {
   "cell_type": "markdown",
   "metadata": {},
   "source": [
    "計算量：O(n)\n"
   ]
  },
  {
   "cell_type": "markdown",
   "metadata": {},
   "source": [
    "# timeit の使い方\n"
   ]
  },
  {
   "cell_type": "code",
   "execution_count": 41,
   "metadata": {},
   "outputs": [],
   "source": [
    "import timeit\n",
    "import matplotlib.pyplot as plt"
   ]
  },
  {
   "cell_type": "code",
   "execution_count": 42,
   "metadata": {},
   "outputs": [],
   "source": [
    "def f1(n):  # O(n^2)\n",
    "    s = 0\n",
    "    for i in range(n):\n",
    "        for j in range(n):\n",
    "            s += 1\n",
    "    return s"
   ]
  },
  {
   "cell_type": "code",
   "execution_count": null,
   "metadata": {},
   "outputs": [
    {
     "data": {
      "image/png": "[encoded data removed]",
      "text/plain": [
       "<Figure size 640x480 with 1 Axes>"
      ]
     },
     "metadata": {},
     "output_type": "display_data"
    }
   ],
   "source": [
    "num_iter = 1000  # 実行回数\n",
    "x = range(50, 500, 50)\n",
    "y = []\n",
    "for n in x:\n",
    "    time = timeit.timeit(\"f1(n)\", globals=globals(), number=num_iter)\n",
    "    y.append(time / num_iter)\n",
    "\n",
    "plt.plot(x, y, \"o\")\n",
    "plt.title(\"O(n^2)\")\n",
    "plt.xlabel(\"n\")\n",
    "plt.ylabel(\"ave time\")\n",
    "plt.show()"
   ]
  },
  {
   "cell_type": "code",
   "execution_count": 44,
   "metadata": {},
   "outputs": [],
   "source": [
    "def f2(n):  # O(2^n)\n",
    "    s = 0\n",
    "    for i in range(2**n):\n",
    "        s += 1\n",
    "    return s"
   ]
  },
  {
   "cell_type": "code",
   "execution_count": 45,
   "metadata": {},
   "outputs": [
    {
     "data": {
      "image/png": "[encoded data removed]",
      "text/plain": [
       "<Figure size 640x480 with 1 Axes>"
      ]
     },
     "metadata": {},
     "output_type": "display_data"
    }
   ],
   "source": [
    "num_iter = 1000  # 実行回数\n",
    "x = range(1, 11, 1)\n",
    "y = []\n",
    "for n in x:\n",
    "    time = timeit.timeit(\"f2(n)\", globals=globals(), number=num_iter)\n",
    "    y.append(time / num_iter)\n",
    "\n",
    "plt.plot(x, y, \"o\")\n",
    "plt.title(\"O(2^n)\")\n",
    "plt.xlabel(\"n,font_size=9\")\n",
    "plt.ylabel(\"ave time\")\n",
    "plt.show()"
   ]
  },
  {
   "cell_type": "markdown",
   "metadata": {},
   "source": [
    "# 計算量の大小関係\n"
   ]
  },
  {
   "cell_type": "code",
   "execution_count": 46,
   "metadata": {},
   "outputs": [
    {
     "data": {
      "image/png": "[encoded data removed]",
      "text/plain": [
       "<Figure size 640x480 with 1 Axes>"
      ]
     },
     "metadata": {},
     "output_type": "display_data"
    }
   ],
   "source": [
    "import matplotlib.pyplot as plt\n",
    "import math\n",
    "\n",
    "xs = [x * 0.1 for x in range(1, 80)]\n",
    "ys = [x for x in xs]\n",
    "ys_squared = [x**2 for x in xs]\n",
    "ys_2_pow_x = [2**x for x in xs]\n",
    "ys_log_x = [math.log(x) for x in xs]\n",
    "ys_x_log_x = [x * math.log(x) for x in xs]\n",
    "\n",
    "plt.plot(xs, ys, label=\"$y=x$\")\n",
    "plt.plot(xs, ys_squared, label=\"$y=x^2$\")\n",
    "plt.plot(xs, ys_2_pow_x, label=\"$y=2^x$\")\n",
    "plt.plot(xs, ys_log_x, label=\"$y=log(x)$\")\n",
    "plt.plot(xs, ys_x_log_x, label=\"$y=xlog(x)$\")\n",
    "\n",
    "plt.xlabel(\"x\")\n",
    "plt.ylabel(\"y\")\n",
    "plt.title(\"Graphs of several functions\")\n",
    "plt.legend()\n",
    "plt.show()"
   ]
  },
  {
   "cell_type": "markdown",
   "metadata": {},
   "source": [
    "# %%time と%time の違い\n",
    "\n",
    "**%%time**:セル全体の実行時間<br>\n",
    "**%time**:行の先頭に追加することでその行の実行時間を計測することができる<br>\n",
    "なお time を timeit に変更すると複数回の平均実行時間を計測\n"
   ]
  },
  {
   "cell_type": "markdown",
   "metadata": {},
   "source": [
    "# python のソートの平均計算量 O(nlogn)\n"
   ]
  },
  {
   "cell_type": "markdown",
   "metadata": {},
   "source": [
    "# 選択ソート\n",
    "\n",
    "**一番小さいのを見つけてきて先頭に並べる、残りでそれを繰り返す。計算量は O(n^2)**\n"
   ]
  },
  {
   "cell_type": "code",
   "execution_count": 47,
   "metadata": {},
   "outputs": [],
   "source": [
    "def selection_sort(lst):\n",
    "    length = len(lst)\n",
    "    for i in range(length):\n",
    "        minpos = i\n",
    "        for j in range(i + 1, length):\n",
    "            if lst[j] < lst[minpos]:\n",
    "                minpos = j\n",
    "        if i != minpos:\n",
    "            tmp = lst[i]\n",
    "            lst[i] = lst[minpos]\n",
    "            lst[minpos] = tmp"
   ]
  },
  {
   "cell_type": "code",
   "execution_count": null,
   "metadata": {},
   "outputs": [
    {
     "name": "stdout",
     "output_type": "stream",
     "text": [
      "[1, 2, 3, 4, 5]\n"
     ]
    }
   ],
   "source": [
    "lst = [3, 2, 5, 1, 4]\n",
    "selection_sort(lst)\n",
    "print(lst)"
   ]
  },
  {
   "cell_type": "markdown",
   "metadata": {},
   "source": [
    "**バブルソート →O(n^2)**<br>\n",
    "**挿入ソート->O(n^2)**\n"
   ]
  },
  {
   "cell_type": "markdown",
   "metadata": {},
   "source": [
    "# クイックソート\n",
    "\n",
    "**ピボット（軸）を決めてそれより、大きい、小さいで分ける。それを再帰的に実行する。平均計算量は O(nlogn)である。最悪計算量は O(n^2)である**\n"
   ]
  },
  {
   "cell_type": "code",
   "execution_count": 49,
   "metadata": {},
   "outputs": [],
   "source": [
    "def quick_sort(lst):\n",
    "    if len(lst) <= 1:\n",
    "        return lst\n",
    "    pivot = lst[0]\n",
    "\n",
    "    left = [x for x in lst[1:] if x < pivot]\n",
    "    middle = [x for x in lst[1:] if x == pivot]\n",
    "    right = [x for x in lst[1:] if x > pivot]\n",
    "\n",
    "    return quick_sort(left) + [pivot] + quick_sort(right)"
   ]
  },
  {
   "cell_type": "code",
   "execution_count": 50,
   "metadata": {},
   "outputs": [
    {
     "data": {
      "text/plain": [
       "[1, 2, 3, 4, 5, 6, 7, 8, 9, 10]"
      ]
     },
     "execution_count": 50,
     "metadata": {},
     "output_type": "execute_result"
    }
   ],
   "source": [
    "quick_sort([10, 2, 6, 1, 3, 4, 5, 8, 7, 9])"
   ]
  },
  {
   "cell_type": "markdown",
   "metadata": {},
   "source": [
    "# マージソート\n",
    "\n",
    "**リストを半分に分割、長さが１になったら分割終了、そのあとはソートしてマージをだうぃから順に繰り返す。計算量は O(nlogn)**\n"
   ]
  },
  {
   "cell_type": "code",
   "execution_count": 51,
   "metadata": {},
   "outputs": [],
   "source": [
    "def msort(lst):\n",
    "    if len(lst) <= 1:\n",
    "        return lst\n",
    "    left = lst[0 : len(lst) // 2]\n",
    "    right = lst[len(lst) // 2 :]\n",
    "    sorted_left = msort(left)\n",
    "    sorted_right = msort(right)\n",
    "\n",
    "    def merge(left, right):\n",
    "        result = []\n",
    "        i = j = 0\n",
    "        while i < len(left) and j < len(right):\n",
    "            if left[i] < right[j]:\n",
    "                result.append(left[i])\n",
    "                i += 1\n",
    "            else:\n",
    "                result.append(right[j])\n",
    "                j += 1\n",
    "        result += left[i:]\n",
    "        result += right[j:]\n",
    "        return result\n",
    "\n",
    "    return merge(sorted_left, sorted_right)"
   ]
  },
  {
   "cell_type": "code",
   "execution_count": 52,
   "metadata": {},
   "outputs": [
    {
     "name": "stdout",
     "output_type": "stream",
     "text": [
      "146 μs ± 2.83 μs per loop (mean ± std. dev. of 7 runs, 10,000 loops each)\n",
      "304 μs ± 7.34 μs per loop (mean ± std. dev. of 7 runs, 1,000 loops each)\n",
      "508 μs ± 14.2 μs per loop (mean ± std. dev. of 7 runs, 1,000 loops each)\n",
      "714 μs ± 17.7 μs per loop (mean ± std. dev. of 7 runs, 1,000 loops each)\n",
      "913 μs ± 49.2 μs per loop (mean ± std. dev. of 7 runs, 1,000 loops each)\n",
      "1.16 ms ± 29.1 μs per loop (mean ± std. dev. of 7 runs, 1,000 loops each)\n",
      "1.38 ms ± 54.3 μs per loop (mean ± std. dev. of 7 runs, 1,000 loops each)\n",
      "1.52 ms ± 61.3 μs per loop (mean ± std. dev. of 7 runs, 1,000 loops each)\n",
      "1.74 ms ± 31.9 μs per loop (mean ± std. dev. of 7 runs, 1,000 loops each)\n",
      "1.96 ms ± 39.3 μs per loop (mean ± std. dev. of 7 runs, 1,000 loops each)\n"
     ]
    }
   ],
   "source": [
    "for i in range(1,11):\n",
    "  target = random.sample(range(100000), i*100)\n",
    "  %timeit  msort(target)"
   ]
  },
  {
   "cell_type": "code",
   "execution_count": null,
   "metadata": {},
   "outputs": [],
   "source": []
  },
  {
   "cell_type": "code",
   "execution_count": null,
   "metadata": {},
   "outputs": [],
   "source": [
    "def evaluate_rpn(expression):\n",
    "    \"\"\"\n",
    "    逆ポーランド記法の数式を評価する関数\n",
    "\n",
    "    Args:\n",
    "        expression (str): スペース区切りのRPN式\n",
    "\n",
    "    Returns:\n",
    "        float: 計算結果\n",
    "\n",
    "    Raises:\n",
    "        ValueError: 不正な式の場合\n",
    "    \"\"\"\n",
    "    stack = []\n",
    "    operators = {\n",
    "        \"+\": lambda x, y: x + y,\n",
    "        \"-\": lambda x, y: x - y,\n",
    "        \"*\": lambda x, y: x * y,\n",
    "        \"/\": lambda x, y: x / y,\n",
    "        \"^\": lambda x, y: x**y,\n",
    "    }\n",
    "\n",
    "    tokens = expression.split()\n",
    "\n",
    "    for token in tokens:\n",
    "        if token in operators:\n",
    "            if len(stack) < 2:\n",
    "                raise ValueError(\"演算子に対する被演算子が不足しています\")\n",
    "\n",
    "            # スタックから2つの値を取り出す\n",
    "            # 注意: 後に取り出した値が左側の被演算子\n",
    "            b = stack.pop()\n",
    "            a = stack.pop()\n",
    "\n",
    "            # 演算を実行して結果をスタックに戻す\n",
    "            try:\n",
    "                result = operators[token](a, b)\n",
    "                stack.append(result)\n",
    "            except ZeroDivisionError:\n",
    "                raise ValueError(\"ゼロによる除算が行われました\")\n",
    "\n",
    "        else:\n",
    "            # 数値の場合はスタックに積む\n",
    "            try:\n",
    "                stack.append(float(token))\n",
    "            except ValueError:\n",
    "                raise ValueError(f\"不正なトークンです: {token}\")\n",
    "\n",
    "    if len(stack) != 1:\n",
    "        raise ValueError(\"式が不完全です\")\n",
    "\n",
    "    return stack[0]\n",
    "\n",
    "\n",
    "# 使用例\n",
    "if __name__ == \"__main__\":\n",
    "    # テストケース\n",
    "    test_cases = [\n",
    "        \"3 4 +\",  # 7\n",
    "        \"3 4 2 + *\",  # 18\n",
    "        \"3 4 + 2 *\",  # 14\n",
    "        \"10 5 /\",  # 2\n",
    "        \"2 3 ^\",  # 8\n",
    "    ]\n",
    "\n",
    "    for expr in test_cases:\n",
    "        try:\n",
    "            result = evaluate_rpn(expr)\n",
    "            print(f\"式: {expr} = {result}\")\n",
    "        except ValueError as e:\n",
    "            print(f\"エラー - {expr}: {str(e)}\")"
   ]
  }
 ],
 "metadata": {
  "kernelspec": {
   "display_name": "algovenv",
   "language": "python",
   "name": "python3"
  },
  "language_info": {
   "codemirror_mode": {
    "name": "ipython",
    "version": 3
   },
   "file_extension": ".py",
   "mimetype": "text/x-python",
   "name": "python",
   "nbconvert_exporter": "python",
   "pygments_lexer": "ipython3",
   "version": "3.10.12"
  }
 },
 "nbformat": 4,
 "nbformat_minor": 2
}
