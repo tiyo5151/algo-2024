{
 "cells": [
  {
   "cell_type": "markdown",
   "metadata": {},
   "source": [
    "ワークスペース情報を収集しています\n",
    "\n",
    "# Django フレームワークの基礎\n",
    "\n",
    "## 概要\n",
    "\n",
    "Django は、Python で書かれた高水準 Web フレームワークで、MVT (Model-View-Template)アーキテクチャを採用しています。\n",
    "\n",
    "## 基本構造\n",
    "\n",
    "1. **Model (モデル)**\n"
   ]
  },
  {
   "cell_type": "code",
   "execution_count": null,
   "metadata": {},
   "outputs": [],
   "source": [
    "from django.db import models\n",
    "\n",
    "\n",
    "class Article(models.Model):\n",
    "    title = models.CharField(max_length=200)\n",
    "    content = models.TextField()\n",
    "    created_at = models.DateTimeField(auto_now_add=True)"
   ]
  },
  {
   "cell_type": "markdown",
   "metadata": {},
   "source": [
    "- データベースのテーブル構造を定義\n",
    "- ORM を通じて DB を操作\n",
    "\n",
    "2. **View (ビュー)**\n"
   ]
  },
  {
   "cell_type": "code",
   "execution_count": null,
   "metadata": {},
   "outputs": [],
   "source": [
    "from django.views import View\n",
    "from django.shortcuts import render\n",
    "\n",
    "\n",
    "class ArticleListView(View):\n",
    "    def get(self, request):\n",
    "        articles = Article.objects.all()\n",
    "        return render(request, \"articles/list.html\", {\"articles\": articles})"
   ]
  },
  {
   "cell_type": "markdown",
   "metadata": {},
   "source": [
    "- ビジネスロジックを実装\n",
    "- HTTP リクエストを処理\n",
    "\n",
    "3. **Template (テンプレート)**\n"
   ]
  },
  {
   "cell_type": "code",
   "execution_count": null,
   "metadata": {
    "vscode": {
     "languageId": "html"
    }
   },
   "outputs": [],
   "source": [
    "{% extends \"base.html\" %} {% block content %} {% for article in articles %}\n",
    "<h2>{{ article.title }}</h2>\n",
    "<p>{{ article.content }}</p>\n",
    "{% endfor %} {% endblock %}\n"
   ]
  },
  {
   "cell_type": "markdown",
   "metadata": {},
   "source": [
    "- HTML テンプレート\n",
    "- ユーザーに表示する UI を定義\n",
    "\n",
    "## 主要機能\n",
    "\n",
    "1. **URL 設定**\n"
   ]
  },
  {
   "cell_type": "code",
   "execution_count": null,
   "metadata": {},
   "outputs": [],
   "source": [
    "from django.urls import path\n",
    "\n",
    "urlpatterns = [\n",
    "    path(\"articles/\", views.ArticleListView.as_view(), name=\"article_list\"),\n",
    "]"
   ]
  },
  {
   "cell_type": "markdown",
   "metadata": {},
   "source": [
    "2. **フォーム処理**\n"
   ]
  },
  {
   "cell_type": "code",
   "execution_count": null,
   "metadata": {},
   "outputs": [],
   "source": [
    "from django import forms\n",
    "\n",
    "\n",
    "class ArticleForm(forms.ModelForm):\n",
    "    class Meta:\n",
    "        model = Article\n",
    "        fields = [\"title\", \"content\"]"
   ]
  },
  {
   "cell_type": "markdown",
   "metadata": {},
   "source": [
    "3. **認証システム**\n"
   ]
  },
  {
   "cell_type": "code",
   "execution_count": null,
   "metadata": {},
   "outputs": [],
   "source": [
    "from django.contrib.auth.decorators import login_required\n",
    "@login_required\n",
    "def protected_view(request):\n",
    "    # 認証済みユーザーのみアクセス可能"
   ]
  },
  {
   "cell_type": "markdown",
   "metadata": {},
   "source": [
    "4. **管理画面**\n",
    "\n",
    "- 自動生成される管理インターフェース\n",
    "- モデルの登録で利用可能\n",
    "\n",
    "## 特徴\n",
    "\n",
    "- 充実した標準ライブラリ\n",
    "- セキュリティ機能の標準装備\n",
    "- スケーラブルな設計\n",
    "- 豊富なドキュメント\n",
    "\n",
    "これらの機能により、効率的な Web 開発が可能になります。\n",
    "\n",
    "1 種類のライセンスで類似のコードが見つかりました\n"
   ]
  }
 ],
 "metadata": {
  "language_info": {
   "name": "python"
  }
 },
 "nbformat": 4,
 "nbformat_minor": 2
}
