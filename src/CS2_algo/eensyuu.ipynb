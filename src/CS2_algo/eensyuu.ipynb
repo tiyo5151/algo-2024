{
 "cells": [
  {
   "cell_type": "code",
   "execution_count": 1,
   "metadata": {},
   "outputs": [],
   "source": [
    "import math"
   ]
  },
  {
   "cell_type": "code",
   "execution_count": 4,
   "metadata": {},
   "outputs": [
    {
     "name": "stdout",
     "output_type": "stream",
     "text": [
      "1. 麻婆丼の情報量: 1.5850 [bit]\n",
      "2. スペシャルマンゴーパフェの情報量: 9.9658 [bit]\n",
      "3. 両方の情報量: 11.5507 [bit]\n"
     ]
    }
   ],
   "source": [
    "import math\n",
    "\n",
    "\n",
    "def calculate_information(p):\n",
    "    return -math.log2(p)\n",
    "\n",
    "\n",
    "# 1. 麻婆丼の情報量計算\n",
    "# 3種類の定食が同じ頻度で提供される場合、各々の確率は1/3\n",
    "p_mapo = 1 / 3\n",
    "info_mapo = calculate_information(p_mapo)\n",
    "print(f\"1. 麻婆丼の情報量: {info_mapo:.4f} [bit]\")\n",
    "\n",
    "# 2. スペシャルマンゴーパフェの情報量計算\n",
    "p_mango = 1 / 1000\n",
    "info_mango = calculate_information(p_mango)\n",
    "print(f\"2. スペシャルマンゴーパフェの情報量: {info_mango:.4f} [bit]\")\n",
    "\n",
    "# 3. 両方の情報をあわせた情報量\n",
    "# 独立な事象の同時確率は各確率の積となる\n",
    "p_both = p_mapo * p_mango\n",
    "info_both = calculate_information(p_both)\n",
    "print(f\"3. 両方の情報量: {info_both:.4f} [bit]\")"
   ]
  },
  {
   "cell_type": "code",
   "execution_count": 6,
   "metadata": {},
   "outputs": [
    {
     "name": "stdout",
     "output_type": "stream",
     "text": [
      "okinawa_sun_info: 0.5850 [bit]\n",
      "okinawa_snow_info: 13.2877 [bit]\n"
     ]
    }
   ],
   "source": [
    "okinawa_sun_pro = 2 / 3\n",
    "okinawa_snow_pro = 1 / 10000\n",
    "okinawa_sun_info = calculate_information(okinawa_sun_pro)\n",
    "print(f\"okinawa_sun_info: {okinawa_sun_info:.4f} [bit]\")\n",
    "okinawa_snow_info = calculate_information(okinawa_snow_pro)\n",
    "print(f\"okinawa_snow_info: {okinawa_snow_info:.4f} [bit]\")"
   ]
  }
 ],
 "metadata": {
  "kernelspec": {
   "display_name": "algovenv",
   "language": "python",
   "name": "python3"
  },
  "language_info": {
   "codemirror_mode": {
    "name": "ipython",
    "version": 3
   },
   "file_extension": ".py",
   "mimetype": "text/x-python",
   "name": "python",
   "nbconvert_exporter": "python",
   "pygments_lexer": "ipython3",
   "version": "3.10.12"
  }
 },
 "nbformat": 4,
 "nbformat_minor": 2
}
